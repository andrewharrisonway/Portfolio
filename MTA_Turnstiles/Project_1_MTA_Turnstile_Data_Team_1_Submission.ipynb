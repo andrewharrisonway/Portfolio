{
 "cells": [
  {
   "cell_type": "markdown",
   "metadata": {},
   "source": [
    "# Project 1: MTA Trunstile Data (Exploratory Data Analysis) \n",
    "## Chicago - Winter 2020 (chi20_ds13): \n",
    "### Team #1 - Ake Paramadilok, Andrew Way, Anthony Ghabour\n",
    "***"
   ]
  },
  {
   "cell_type": "markdown",
   "metadata": {},
   "source": [
    "## 1. Objective\n",
    "\n",
    "Use MTA subway (and other) data to help optimize the placement of street teams at entrances to subway stations to identify individuals passionate about technology who might attend a gala at the beginning of the summer.\n",
    "\n",
    "Use python and pandas to perform exploratory data analysis and create visualizations via Matplotlib & Seaborn."
   ]
  },
  {
   "cell_type": "markdown",
   "metadata": {},
   "source": [
    "## 2. Workbook Setup & Data Extraction"
   ]
  },
  {
   "cell_type": "code",
   "execution_count": 1,
   "metadata": {},
   "outputs": [],
   "source": [
    "# Import packages\n",
    "import pandas as pd\n",
    "import numpy as np\n",
    "import seaborn as sns\n",
    "import datetime\n",
    "from datetime import datetime as dt\n",
    "import matplotlib.pyplot as plt\n",
    "import folium\n",
    "import geopy.geocoders\n",
    "from geopy.geocoders import Nominatim\n",
    "geopy.geocoders.options.default_user_agent = 'Metis MTA Project 1'\n",
    "geopy.geocoders.options.default_timeout = 15\n",
    "geolocator = Nominatim()\n",
    "\n",
    "%matplotlib inline"
   ]
  },
  {
   "cell_type": "markdown",
   "metadata": {},
   "source": [
    "####     MTA Data Source: http://web.mta.info/developers/turnstile.html\n",
    "\n",
    "From http://web.mta.info/developers/resources/nyct/turnstile/ts_Field_Description.txt:\n",
    "\n",
    "    Field Description\n",
    "\n",
    "    C/A,UNIT,SCP,STATION,LINENAME,DIVISION,DATE,TIME,DESC,ENTRIES,EXITS\n",
    "\n",
    "    C/A      = Control Area (A002)\n",
    "    UNIT     = Remote Unit for a station (R051)\n",
    "    SCP      = Subunit Channel Position represents an specific address for a device (02-00-00)\n",
    "    STATION  = Represents the station name the device is located at\n",
    "    LINENAME = Represents all train lines that can be boarded at this station\n",
    "               Normally lines are represented by one character.  LINENAME 456NQR repersents train server \n",
    "               for 4, 5, 6, N, Q, and R trains.\n",
    "    DIVISION = Represents the Line originally the station belonged to BMT, IRT, or IND   \n",
    "    DATE     = Represents the date (MM-DD-YY)\n",
    "    TIME     = Represents the time (hh:mm:ss) for a scheduled audit event\n",
    "    DESc     = Represent the \"REGULAR\" scheduled audit event (Normally occurs every 4 hours)\n",
    "               1. Audits may occur more that 4 hours due to planning, or troubleshooting activities. \n",
    "               2. Additionally, there may be a \"RECOVR AUD\" entry: This refers to missed audit that was recovered. \n",
    "    ENTRIES  = The comulative entry register value for a device\n",
    "    EXIST    = The cumulative exit register value for a device\n",
    "\n",
    "\n",
    "Analysis will focus on MTA activity occuring in late Spring (four weeks ending May 25, 2019) in advance of gala event in early Summer."
   ]
  },
  {
   "cell_type": "code",
   "execution_count": 2,
   "metadata": {},
   "outputs": [],
   "source": [
    "def get_data(week_nums):\n",
    "    url = \"http://web.mta.info/developers/data/nyct/turnstile/turnstile_{}.txt\"\n",
    "    dfs = []\n",
    "    for week_num in week_nums:\n",
    "        file_url = url.format(week_num)\n",
    "        dfs.append(pd.read_csv(file_url))\n",
    "    return pd.concat(dfs)\n",
    "\n",
    "week_nums = [190504, 190511, 190518, 190525]\n",
    "MTA_df = get_data(week_nums).reset_index(drop=True)"
   ]
  },
  {
   "cell_type": "markdown",
   "metadata": {},
   "source": [
    "## 3. Data Wrangling & Cleanup\n",
    "Let's perform some initial high-level checks. What elements are provided? "
   ]
  },
  {
   "cell_type": "code",
   "execution_count": 3,
   "metadata": {},
   "outputs": [
    {
     "data": {
      "text/plain": [
       "Index(['C/A', 'UNIT', 'SCP', 'STATION', 'LINENAME', 'DIVISION', 'DATE', 'TIME',\n",
       "       'DESC', 'ENTRIES',\n",
       "       'EXITS                                                               '],\n",
       "      dtype='object')"
      ]
     },
     "execution_count": 3,
     "metadata": {},
     "output_type": "execute_result"
    }
   ],
   "source": [
    "MTA_df.columns"
   ]
  },
  {
   "cell_type": "code",
   "execution_count": 4,
   "metadata": {},
   "outputs": [
    {
     "data": {
      "text/plain": [
       "Index(['C/A', 'UNIT', 'SCP', 'STATION', 'LINENAME', 'DIVISION', 'DATE', 'TIME',\n",
       "       'DESC', 'ENTRIES', 'EXITS'],\n",
       "      dtype='object')"
      ]
     },
     "execution_count": 4,
     "metadata": {},
     "output_type": "execute_result"
    }
   ],
   "source": [
    "MTA_df.columns = [column.strip() for column in MTA_df.columns]\n",
    "MTA_df.columns"
   ]
  },
  {
   "cell_type": "markdown",
   "metadata": {},
   "source": [
    "Confirm data reflects the period of interest."
   ]
  },
  {
   "cell_type": "code",
   "execution_count": 5,
   "metadata": {},
   "outputs": [
    {
     "data": {
      "text/plain": [
       "04/27/2019    28914\n",
       "04/28/2019    28982\n",
       "04/29/2019    30972\n",
       "04/30/2019    28982\n",
       "05/01/2019    29624\n",
       "05/02/2019    29871\n",
       "05/03/2019    29512\n",
       "05/04/2019    28963\n",
       "05/05/2019    28954\n",
       "05/06/2019    29008\n",
       "05/07/2019    30355\n",
       "05/08/2019    29280\n",
       "05/09/2019    28793\n",
       "05/10/2019    28735\n",
       "05/11/2019    28807\n",
       "05/12/2019    28922\n",
       "05/13/2019    29877\n",
       "05/14/2019    30074\n",
       "05/15/2019    30589\n",
       "05/16/2019    29940\n",
       "05/17/2019    30472\n",
       "05/18/2019    29052\n",
       "05/19/2019    29225\n",
       "05/20/2019    29501\n",
       "05/21/2019    30146\n",
       "05/22/2019    27745\n",
       "05/23/2019    28021\n",
       "05/24/2019    29673\n",
       "Name: DATE, dtype: int64"
      ]
     },
     "execution_count": 5,
     "metadata": {},
     "output_type": "execute_result"
    }
   ],
   "source": [
    "MTA_df.DATE.value_counts().sort_index()"
   ]
  },
  {
   "cell_type": "markdown",
   "metadata": {},
   "source": [
    "What are the applicable data types? Is there any missing information?"
   ]
  },
  {
   "cell_type": "code",
   "execution_count": 6,
   "metadata": {},
   "outputs": [
    {
     "name": "stdout",
     "output_type": "stream",
     "text": [
      "<class 'pandas.core.frame.DataFrame'>\n",
      "RangeIndex: 822989 entries, 0 to 822988\n",
      "Data columns (total 11 columns):\n",
      "C/A         822989 non-null object\n",
      "UNIT        822989 non-null object\n",
      "SCP         822989 non-null object\n",
      "STATION     822989 non-null object\n",
      "LINENAME    822989 non-null object\n",
      "DIVISION    822989 non-null object\n",
      "DATE        822989 non-null object\n",
      "TIME        822989 non-null object\n",
      "DESC        822989 non-null object\n",
      "ENTRIES     822989 non-null int64\n",
      "EXITS       822989 non-null int64\n",
      "dtypes: int64(2), object(9)\n",
      "memory usage: 69.1+ MB\n"
     ]
    }
   ],
   "source": [
    "MTA_df.info()"
   ]
  },
  {
   "cell_type": "markdown",
   "metadata": {},
   "source": [
    "Note that date and time are provided as text. Let's combine and convert that information into a single column as a datetime object. Additionally, our analysis will not need to consider time to the nearest minute, so we'll drop minutes and seconds, only keeping time information in terms of hours."
   ]
  },
  {
   "cell_type": "code",
   "execution_count": 7,
   "metadata": {},
   "outputs": [],
   "source": [
    "MTA_df[\"DATE_TIME\"] = pd.to_datetime(MTA_df.DATE + \" \" + MTA_df.TIME, format=\"%m/%d/%Y %H:%M:%S\")\n",
    "MTA_df[\"DATE_TIME\"] = MTA_df[\"DATE_TIME\"].transform(lambda x: x.replace(minute = 0, second = 0))"
   ]
  },
  {
   "cell_type": "markdown",
   "metadata": {},
   "source": [
    "Confirm transformation above worked as intended."
   ]
  },
  {
   "cell_type": "code",
   "execution_count": 8,
   "metadata": {},
   "outputs": [
    {
     "name": "stdout",
     "output_type": "stream",
     "text": [
      "<class 'pandas.core.frame.DataFrame'>\n",
      "RangeIndex: 822989 entries, 0 to 822988\n",
      "Data columns (total 12 columns):\n",
      "C/A          822989 non-null object\n",
      "UNIT         822989 non-null object\n",
      "SCP          822989 non-null object\n",
      "STATION      822989 non-null object\n",
      "LINENAME     822989 non-null object\n",
      "DIVISION     822989 non-null object\n",
      "DATE         822989 non-null object\n",
      "TIME         822989 non-null object\n",
      "DESC         822989 non-null object\n",
      "ENTRIES      822989 non-null int64\n",
      "EXITS        822989 non-null int64\n",
      "DATE_TIME    822989 non-null datetime64[ns]\n",
      "dtypes: datetime64[ns](1), int64(2), object(9)\n",
      "memory usage: 75.3+ MB\n"
     ]
    }
   ],
   "source": [
    "MTA_df.info()"
   ]
  },
  {
   "cell_type": "markdown",
   "metadata": {},
   "source": [
    "Next, visually inspect and review a few sample records - first, last, and/or random entries."
   ]
  },
  {
   "cell_type": "code",
   "execution_count": 9,
   "metadata": {},
   "outputs": [
    {
     "data": {
      "text/html": [
       "<div>\n",
       "<style scoped>\n",
       "    .dataframe tbody tr th:only-of-type {\n",
       "        vertical-align: middle;\n",
       "    }\n",
       "\n",
       "    .dataframe tbody tr th {\n",
       "        vertical-align: top;\n",
       "    }\n",
       "\n",
       "    .dataframe thead th {\n",
       "        text-align: right;\n",
       "    }\n",
       "</style>\n",
       "<table border=\"1\" class=\"dataframe\">\n",
       "  <thead>\n",
       "    <tr style=\"text-align: right;\">\n",
       "      <th></th>\n",
       "      <th>C/A</th>\n",
       "      <th>UNIT</th>\n",
       "      <th>SCP</th>\n",
       "      <th>STATION</th>\n",
       "      <th>LINENAME</th>\n",
       "      <th>DIVISION</th>\n",
       "      <th>DATE</th>\n",
       "      <th>TIME</th>\n",
       "      <th>DESC</th>\n",
       "      <th>ENTRIES</th>\n",
       "      <th>EXITS</th>\n",
       "      <th>DATE_TIME</th>\n",
       "    </tr>\n",
       "  </thead>\n",
       "  <tbody>\n",
       "    <tr>\n",
       "      <td>0</td>\n",
       "      <td>A002</td>\n",
       "      <td>R051</td>\n",
       "      <td>02-00-00</td>\n",
       "      <td>59 ST</td>\n",
       "      <td>NQR456W</td>\n",
       "      <td>BMT</td>\n",
       "      <td>04/27/2019</td>\n",
       "      <td>00:00:00</td>\n",
       "      <td>REGULAR</td>\n",
       "      <td>7035249</td>\n",
       "      <td>2384833</td>\n",
       "      <td>2019-04-27 00:00:00</td>\n",
       "    </tr>\n",
       "    <tr>\n",
       "      <td>1</td>\n",
       "      <td>A002</td>\n",
       "      <td>R051</td>\n",
       "      <td>02-00-00</td>\n",
       "      <td>59 ST</td>\n",
       "      <td>NQR456W</td>\n",
       "      <td>BMT</td>\n",
       "      <td>04/27/2019</td>\n",
       "      <td>04:00:00</td>\n",
       "      <td>REGULAR</td>\n",
       "      <td>7035269</td>\n",
       "      <td>2384840</td>\n",
       "      <td>2019-04-27 04:00:00</td>\n",
       "    </tr>\n",
       "    <tr>\n",
       "      <td>2</td>\n",
       "      <td>A002</td>\n",
       "      <td>R051</td>\n",
       "      <td>02-00-00</td>\n",
       "      <td>59 ST</td>\n",
       "      <td>NQR456W</td>\n",
       "      <td>BMT</td>\n",
       "      <td>04/27/2019</td>\n",
       "      <td>08:00:00</td>\n",
       "      <td>REGULAR</td>\n",
       "      <td>7035292</td>\n",
       "      <td>2384875</td>\n",
       "      <td>2019-04-27 08:00:00</td>\n",
       "    </tr>\n",
       "    <tr>\n",
       "      <td>3</td>\n",
       "      <td>A002</td>\n",
       "      <td>R051</td>\n",
       "      <td>02-00-00</td>\n",
       "      <td>59 ST</td>\n",
       "      <td>NQR456W</td>\n",
       "      <td>BMT</td>\n",
       "      <td>04/27/2019</td>\n",
       "      <td>12:00:00</td>\n",
       "      <td>REGULAR</td>\n",
       "      <td>7035392</td>\n",
       "      <td>2384951</td>\n",
       "      <td>2019-04-27 12:00:00</td>\n",
       "    </tr>\n",
       "    <tr>\n",
       "      <td>4</td>\n",
       "      <td>A002</td>\n",
       "      <td>R051</td>\n",
       "      <td>02-00-00</td>\n",
       "      <td>59 ST</td>\n",
       "      <td>NQR456W</td>\n",
       "      <td>BMT</td>\n",
       "      <td>04/27/2019</td>\n",
       "      <td>16:00:00</td>\n",
       "      <td>REGULAR</td>\n",
       "      <td>7035651</td>\n",
       "      <td>2385020</td>\n",
       "      <td>2019-04-27 16:00:00</td>\n",
       "    </tr>\n",
       "  </tbody>\n",
       "</table>\n",
       "</div>"
      ],
      "text/plain": [
       "    C/A  UNIT       SCP STATION LINENAME DIVISION        DATE      TIME  \\\n",
       "0  A002  R051  02-00-00   59 ST  NQR456W      BMT  04/27/2019  00:00:00   \n",
       "1  A002  R051  02-00-00   59 ST  NQR456W      BMT  04/27/2019  04:00:00   \n",
       "2  A002  R051  02-00-00   59 ST  NQR456W      BMT  04/27/2019  08:00:00   \n",
       "3  A002  R051  02-00-00   59 ST  NQR456W      BMT  04/27/2019  12:00:00   \n",
       "4  A002  R051  02-00-00   59 ST  NQR456W      BMT  04/27/2019  16:00:00   \n",
       "\n",
       "      DESC  ENTRIES    EXITS           DATE_TIME  \n",
       "0  REGULAR  7035249  2384833 2019-04-27 00:00:00  \n",
       "1  REGULAR  7035269  2384840 2019-04-27 04:00:00  \n",
       "2  REGULAR  7035292  2384875 2019-04-27 08:00:00  \n",
       "3  REGULAR  7035392  2384951 2019-04-27 12:00:00  \n",
       "4  REGULAR  7035651  2385020 2019-04-27 16:00:00  "
      ]
     },
     "metadata": {},
     "output_type": "display_data"
    },
    {
     "data": {
      "text/html": [
       "<div>\n",
       "<style scoped>\n",
       "    .dataframe tbody tr th:only-of-type {\n",
       "        vertical-align: middle;\n",
       "    }\n",
       "\n",
       "    .dataframe tbody tr th {\n",
       "        vertical-align: top;\n",
       "    }\n",
       "\n",
       "    .dataframe thead th {\n",
       "        text-align: right;\n",
       "    }\n",
       "</style>\n",
       "<table border=\"1\" class=\"dataframe\">\n",
       "  <thead>\n",
       "    <tr style=\"text-align: right;\">\n",
       "      <th></th>\n",
       "      <th>C/A</th>\n",
       "      <th>UNIT</th>\n",
       "      <th>SCP</th>\n",
       "      <th>STATION</th>\n",
       "      <th>LINENAME</th>\n",
       "      <th>DIVISION</th>\n",
       "      <th>DATE</th>\n",
       "      <th>TIME</th>\n",
       "      <th>DESC</th>\n",
       "      <th>ENTRIES</th>\n",
       "      <th>EXITS</th>\n",
       "      <th>DATE_TIME</th>\n",
       "    </tr>\n",
       "  </thead>\n",
       "  <tbody>\n",
       "    <tr>\n",
       "      <td>822984</td>\n",
       "      <td>TRAM2</td>\n",
       "      <td>R469</td>\n",
       "      <td>00-05-01</td>\n",
       "      <td>RIT-ROOSEVELT</td>\n",
       "      <td>R</td>\n",
       "      <td>RIT</td>\n",
       "      <td>05/24/2019</td>\n",
       "      <td>05:00:00</td>\n",
       "      <td>REGULAR</td>\n",
       "      <td>5554</td>\n",
       "      <td>378</td>\n",
       "      <td>2019-05-24 05:00:00</td>\n",
       "    </tr>\n",
       "    <tr>\n",
       "      <td>822985</td>\n",
       "      <td>TRAM2</td>\n",
       "      <td>R469</td>\n",
       "      <td>00-05-01</td>\n",
       "      <td>RIT-ROOSEVELT</td>\n",
       "      <td>R</td>\n",
       "      <td>RIT</td>\n",
       "      <td>05/24/2019</td>\n",
       "      <td>09:00:00</td>\n",
       "      <td>REGULAR</td>\n",
       "      <td>5554</td>\n",
       "      <td>378</td>\n",
       "      <td>2019-05-24 09:00:00</td>\n",
       "    </tr>\n",
       "    <tr>\n",
       "      <td>822986</td>\n",
       "      <td>TRAM2</td>\n",
       "      <td>R469</td>\n",
       "      <td>00-05-01</td>\n",
       "      <td>RIT-ROOSEVELT</td>\n",
       "      <td>R</td>\n",
       "      <td>RIT</td>\n",
       "      <td>05/24/2019</td>\n",
       "      <td>13:00:00</td>\n",
       "      <td>REGULAR</td>\n",
       "      <td>5554</td>\n",
       "      <td>378</td>\n",
       "      <td>2019-05-24 13:00:00</td>\n",
       "    </tr>\n",
       "    <tr>\n",
       "      <td>822987</td>\n",
       "      <td>TRAM2</td>\n",
       "      <td>R469</td>\n",
       "      <td>00-05-01</td>\n",
       "      <td>RIT-ROOSEVELT</td>\n",
       "      <td>R</td>\n",
       "      <td>RIT</td>\n",
       "      <td>05/24/2019</td>\n",
       "      <td>17:00:00</td>\n",
       "      <td>REGULAR</td>\n",
       "      <td>5554</td>\n",
       "      <td>378</td>\n",
       "      <td>2019-05-24 17:00:00</td>\n",
       "    </tr>\n",
       "    <tr>\n",
       "      <td>822988</td>\n",
       "      <td>TRAM2</td>\n",
       "      <td>R469</td>\n",
       "      <td>00-05-01</td>\n",
       "      <td>RIT-ROOSEVELT</td>\n",
       "      <td>R</td>\n",
       "      <td>RIT</td>\n",
       "      <td>05/24/2019</td>\n",
       "      <td>21:00:00</td>\n",
       "      <td>REGULAR</td>\n",
       "      <td>5554</td>\n",
       "      <td>378</td>\n",
       "      <td>2019-05-24 21:00:00</td>\n",
       "    </tr>\n",
       "  </tbody>\n",
       "</table>\n",
       "</div>"
      ],
      "text/plain": [
       "          C/A  UNIT       SCP        STATION LINENAME DIVISION        DATE  \\\n",
       "822984  TRAM2  R469  00-05-01  RIT-ROOSEVELT        R      RIT  05/24/2019   \n",
       "822985  TRAM2  R469  00-05-01  RIT-ROOSEVELT        R      RIT  05/24/2019   \n",
       "822986  TRAM2  R469  00-05-01  RIT-ROOSEVELT        R      RIT  05/24/2019   \n",
       "822987  TRAM2  R469  00-05-01  RIT-ROOSEVELT        R      RIT  05/24/2019   \n",
       "822988  TRAM2  R469  00-05-01  RIT-ROOSEVELT        R      RIT  05/24/2019   \n",
       "\n",
       "            TIME     DESC  ENTRIES  EXITS           DATE_TIME  \n",
       "822984  05:00:00  REGULAR     5554    378 2019-05-24 05:00:00  \n",
       "822985  09:00:00  REGULAR     5554    378 2019-05-24 09:00:00  \n",
       "822986  13:00:00  REGULAR     5554    378 2019-05-24 13:00:00  \n",
       "822987  17:00:00  REGULAR     5554    378 2019-05-24 17:00:00  \n",
       "822988  21:00:00  REGULAR     5554    378 2019-05-24 21:00:00  "
      ]
     },
     "metadata": {},
     "output_type": "display_data"
    },
    {
     "data": {
      "text/html": [
       "<div>\n",
       "<style scoped>\n",
       "    .dataframe tbody tr th:only-of-type {\n",
       "        vertical-align: middle;\n",
       "    }\n",
       "\n",
       "    .dataframe tbody tr th {\n",
       "        vertical-align: top;\n",
       "    }\n",
       "\n",
       "    .dataframe thead th {\n",
       "        text-align: right;\n",
       "    }\n",
       "</style>\n",
       "<table border=\"1\" class=\"dataframe\">\n",
       "  <thead>\n",
       "    <tr style=\"text-align: right;\">\n",
       "      <th></th>\n",
       "      <th>C/A</th>\n",
       "      <th>UNIT</th>\n",
       "      <th>SCP</th>\n",
       "      <th>STATION</th>\n",
       "      <th>LINENAME</th>\n",
       "      <th>DIVISION</th>\n",
       "      <th>DATE</th>\n",
       "      <th>TIME</th>\n",
       "      <th>DESC</th>\n",
       "      <th>ENTRIES</th>\n",
       "      <th>EXITS</th>\n",
       "      <th>DATE_TIME</th>\n",
       "    </tr>\n",
       "  </thead>\n",
       "  <tbody>\n",
       "    <tr>\n",
       "      <td>430523</td>\n",
       "      <td>B031</td>\n",
       "      <td>R172</td>\n",
       "      <td>01-06-00</td>\n",
       "      <td>BRIGHTON BEACH</td>\n",
       "      <td>BQ</td>\n",
       "      <td>BMT</td>\n",
       "      <td>05/12/2019</td>\n",
       "      <td>04:00:00</td>\n",
       "      <td>REGULAR</td>\n",
       "      <td>1687814</td>\n",
       "      <td>6621905</td>\n",
       "      <td>2019-05-12 04:00:00</td>\n",
       "    </tr>\n",
       "    <tr>\n",
       "      <td>783626</td>\n",
       "      <td>R259</td>\n",
       "      <td>R307</td>\n",
       "      <td>00-00-00</td>\n",
       "      <td>138/GRAND CONC</td>\n",
       "      <td>45</td>\n",
       "      <td>IRT</td>\n",
       "      <td>05/22/2019</td>\n",
       "      <td>12:00:00</td>\n",
       "      <td>REGULAR</td>\n",
       "      <td>3777876</td>\n",
       "      <td>3508933</td>\n",
       "      <td>2019-05-22 12:00:00</td>\n",
       "    </tr>\n",
       "    <tr>\n",
       "      <td>192226</td>\n",
       "      <td>R533</td>\n",
       "      <td>R055</td>\n",
       "      <td>00-00-07</td>\n",
       "      <td>FLUSHING-MAIN</td>\n",
       "      <td>7</td>\n",
       "      <td>IRT</td>\n",
       "      <td>04/27/2019</td>\n",
       "      <td>12:00:00</td>\n",
       "      <td>REGULAR</td>\n",
       "      <td>2891123</td>\n",
       "      <td>1122962</td>\n",
       "      <td>2019-04-27 12:00:00</td>\n",
       "    </tr>\n",
       "    <tr>\n",
       "      <td>349250</td>\n",
       "      <td>R168A</td>\n",
       "      <td>R168</td>\n",
       "      <td>00-03-02</td>\n",
       "      <td>96 ST</td>\n",
       "      <td>123</td>\n",
       "      <td>IRT</td>\n",
       "      <td>05/04/2019</td>\n",
       "      <td>09:00:00</td>\n",
       "      <td>REGULAR</td>\n",
       "      <td>11491639</td>\n",
       "      <td>11481553</td>\n",
       "      <td>2019-05-04 09:00:00</td>\n",
       "    </tr>\n",
       "    <tr>\n",
       "      <td>804481</td>\n",
       "      <td>R525</td>\n",
       "      <td>R018</td>\n",
       "      <td>02-06-01</td>\n",
       "      <td>74 ST-BROADWAY</td>\n",
       "      <td>7EFMR</td>\n",
       "      <td>IRT</td>\n",
       "      <td>05/20/2019</td>\n",
       "      <td>16:00:00</td>\n",
       "      <td>REGULAR</td>\n",
       "      <td>54049</td>\n",
       "      <td>3595557</td>\n",
       "      <td>2019-05-20 16:00:00</td>\n",
       "    </tr>\n",
       "  </tbody>\n",
       "</table>\n",
       "</div>"
      ],
      "text/plain": [
       "          C/A  UNIT       SCP         STATION LINENAME DIVISION        DATE  \\\n",
       "430523   B031  R172  01-06-00  BRIGHTON BEACH       BQ      BMT  05/12/2019   \n",
       "783626   R259  R307  00-00-00  138/GRAND CONC       45      IRT  05/22/2019   \n",
       "192226   R533  R055  00-00-07   FLUSHING-MAIN        7      IRT  04/27/2019   \n",
       "349250  R168A  R168  00-03-02           96 ST      123      IRT  05/04/2019   \n",
       "804481   R525  R018  02-06-01  74 ST-BROADWAY    7EFMR      IRT  05/20/2019   \n",
       "\n",
       "            TIME     DESC   ENTRIES     EXITS           DATE_TIME  \n",
       "430523  04:00:00  REGULAR   1687814   6621905 2019-05-12 04:00:00  \n",
       "783626  12:00:00  REGULAR   3777876   3508933 2019-05-22 12:00:00  \n",
       "192226  12:00:00  REGULAR   2891123   1122962 2019-04-27 12:00:00  \n",
       "349250  09:00:00  REGULAR  11491639  11481553 2019-05-04 09:00:00  \n",
       "804481  16:00:00  REGULAR     54049   3595557 2019-05-20 16:00:00  "
      ]
     },
     "metadata": {},
     "output_type": "display_data"
    }
   ],
   "source": [
    "display(MTA_df.head())\n",
    "display(MTA_df.tail())\n",
    "display(MTA_df.sample(5))"
   ]
  },
  {
   "cell_type": "markdown",
   "metadata": {},
   "source": [
    "Turnstiles are uniquely identified by a combination of four elements. Let's create a unique identifier to facilitate manipulating later on.<br/> Similarly, sometimes distinct stations (i.e. on different lines) have the same name. "
   ]
  },
  {
   "cell_type": "code",
   "execution_count": 10,
   "metadata": {},
   "outputs": [],
   "source": [
    "MTA_df[\"TURNSTILE\"] = (\n",
    "    MTA_df['C/A'] + ' ' +\n",
    "    MTA_df['UNIT'] + ' ' +\n",
    "    MTA_df['SCP'] + ' ' +\n",
    "    MTA_df['STATION'])\n",
    "\n",
    "MTA_df[\"STATION\"] = (\n",
    "    MTA_df['STATION'] + ' ' +\n",
    "    MTA_df['LINENAME'] )"
   ]
  },
  {
   "cell_type": "code",
   "execution_count": 11,
   "metadata": {},
   "outputs": [
    {
     "data": {
      "text/plain": [
       "REGULAR       819398\n",
       "RECOVR AUD      3591\n",
       "Name: DESC, dtype: int64"
      ]
     },
     "execution_count": 11,
     "metadata": {},
     "output_type": "execute_result"
    }
   ],
   "source": [
    "MTA_df.DESC.value_counts()"
   ]
  },
  {
   "cell_type": "markdown",
   "metadata": {},
   "source": [
    "\"Recover audits\" are scarce relative to \"Regular\" audits (less than 0.5% of all records) and may be more likely to involve irregular information, so let's ignore them. "
   ]
  },
  {
   "cell_type": "code",
   "execution_count": 12,
   "metadata": {},
   "outputs": [],
   "source": [
    "MTA_df = MTA_df[MTA_df.DESC == \"REGULAR\"]"
   ]
  },
  {
   "cell_type": "markdown",
   "metadata": {},
   "source": [
    "Drop columns we no longer need (much of the information has been incorporated into other columns by now). "
   ]
  },
  {
   "cell_type": "code",
   "execution_count": 13,
   "metadata": {},
   "outputs": [],
   "source": [
    "MTA_df = MTA_df.drop([\"C/A\", \"UNIT\", \"SCP\", \"DESC\", \"DIVISION\", \"LINENAME\"], axis=1, errors=\"ignore\")"
   ]
  },
  {
   "cell_type": "markdown",
   "metadata": {},
   "source": [
    "Sanity Check to verify that \"TURNSTILE\", \"DATE_TIME\" combinations are unique."
   ]
  },
  {
   "cell_type": "code",
   "execution_count": 14,
   "metadata": {},
   "outputs": [
    {
     "data": {
      "text/html": [
       "<div>\n",
       "<style scoped>\n",
       "    .dataframe tbody tr th:only-of-type {\n",
       "        vertical-align: middle;\n",
       "    }\n",
       "\n",
       "    .dataframe tbody tr th {\n",
       "        vertical-align: top;\n",
       "    }\n",
       "\n",
       "    .dataframe thead th {\n",
       "        text-align: right;\n",
       "    }\n",
       "</style>\n",
       "<table border=\"1\" class=\"dataframe\">\n",
       "  <thead>\n",
       "    <tr style=\"text-align: right;\">\n",
       "      <th></th>\n",
       "      <th>TURNSTILE</th>\n",
       "      <th>DATE_TIME</th>\n",
       "      <th>ENTRIES</th>\n",
       "    </tr>\n",
       "  </thead>\n",
       "  <tbody>\n",
       "    <tr>\n",
       "      <td>600249</td>\n",
       "      <td>R210 R044 00-05-01 BROOKLYN BRIDGE</td>\n",
       "      <td>2019-05-14 18:00:00</td>\n",
       "      <td>45</td>\n",
       "    </tr>\n",
       "    <tr>\n",
       "      <td>598890</td>\n",
       "      <td>R210 R044 00-00-01 BROOKLYN BRIDGE</td>\n",
       "      <td>2019-05-14 18:00:00</td>\n",
       "      <td>45</td>\n",
       "    </tr>\n",
       "    <tr>\n",
       "      <td>599907</td>\n",
       "      <td>R210 R044 00-03-05 BROOKLYN BRIDGE</td>\n",
       "      <td>2019-05-14 18:00:00</td>\n",
       "      <td>45</td>\n",
       "    </tr>\n",
       "    <tr>\n",
       "      <td>598720</td>\n",
       "      <td>R210 R044 00-00-00 BROOKLYN BRIDGE</td>\n",
       "      <td>2019-05-14 18:00:00</td>\n",
       "      <td>45</td>\n",
       "    </tr>\n",
       "    <tr>\n",
       "      <td>599060</td>\n",
       "      <td>R210 R044 00-03-00 BROOKLYN BRIDGE</td>\n",
       "      <td>2019-05-14 18:00:00</td>\n",
       "      <td>45</td>\n",
       "    </tr>\n",
       "  </tbody>\n",
       "</table>\n",
       "</div>"
      ],
      "text/plain": [
       "                                 TURNSTILE           DATE_TIME  ENTRIES\n",
       "600249  R210 R044 00-05-01 BROOKLYN BRIDGE 2019-05-14 18:00:00       45\n",
       "598890  R210 R044 00-00-01 BROOKLYN BRIDGE 2019-05-14 18:00:00       45\n",
       "599907  R210 R044 00-03-05 BROOKLYN BRIDGE 2019-05-14 18:00:00       45\n",
       "598720  R210 R044 00-00-00 BROOKLYN BRIDGE 2019-05-14 18:00:00       45\n",
       "599060  R210 R044 00-03-00 BROOKLYN BRIDGE 2019-05-14 18:00:00       45"
      ]
     },
     "execution_count": 14,
     "metadata": {},
     "output_type": "execute_result"
    }
   ],
   "source": [
    "MTA_df = MTA_df.sort_values(\"DATE_TIME\")\n",
    "(MTA_df \n",
    " .sort_values(\"DATE_TIME\")\n",
    " .groupby([\"TURNSTILE\", \"DATE_TIME\"])\n",
    " .ENTRIES.count()\n",
    " .reset_index()\n",
    " .sort_values(\"ENTRIES\", ascending=False)).head()"
   ]
  },
  {
   "cell_type": "markdown",
   "metadata": {},
   "source": [
    "Let's take a closer look."
   ]
  },
  {
   "cell_type": "code",
   "execution_count": 15,
   "metadata": {},
   "outputs": [
    {
     "data": {
      "text/html": [
       "<div>\n",
       "<style scoped>\n",
       "    .dataframe tbody tr th:only-of-type {\n",
       "        vertical-align: middle;\n",
       "    }\n",
       "\n",
       "    .dataframe tbody tr th {\n",
       "        vertical-align: top;\n",
       "    }\n",
       "\n",
       "    .dataframe thead th {\n",
       "        text-align: right;\n",
       "    }\n",
       "</style>\n",
       "<table border=\"1\" class=\"dataframe\">\n",
       "  <thead>\n",
       "    <tr style=\"text-align: right;\">\n",
       "      <th></th>\n",
       "      <th>STATION</th>\n",
       "      <th>DATE</th>\n",
       "      <th>TIME</th>\n",
       "      <th>ENTRIES</th>\n",
       "      <th>EXITS</th>\n",
       "      <th>DATE_TIME</th>\n",
       "      <th>TURNSTILE</th>\n",
       "    </tr>\n",
       "  </thead>\n",
       "  <tbody>\n",
       "    <tr>\n",
       "      <td>565152</td>\n",
       "      <td>BROOKLYN BRIDGE 456JZ</td>\n",
       "      <td>05/14/2019</td>\n",
       "      <td>00:00:00</td>\n",
       "      <td>1572455</td>\n",
       "      <td>2648298</td>\n",
       "      <td>2019-05-14 00:00:00</td>\n",
       "      <td>R210 R044 00-03-00 BROOKLYN BRIDGE</td>\n",
       "    </tr>\n",
       "    <tr>\n",
       "      <td>565153</td>\n",
       "      <td>BROOKLYN BRIDGE 456JZ</td>\n",
       "      <td>05/14/2019</td>\n",
       "      <td>04:00:00</td>\n",
       "      <td>1572470</td>\n",
       "      <td>2648313</td>\n",
       "      <td>2019-05-14 04:00:00</td>\n",
       "      <td>R210 R044 00-03-00 BROOKLYN BRIDGE</td>\n",
       "    </tr>\n",
       "    <tr>\n",
       "      <td>565154</td>\n",
       "      <td>BROOKLYN BRIDGE 456JZ</td>\n",
       "      <td>05/14/2019</td>\n",
       "      <td>08:00:00</td>\n",
       "      <td>1572506</td>\n",
       "      <td>2648643</td>\n",
       "      <td>2019-05-14 08:00:00</td>\n",
       "      <td>R210 R044 00-03-00 BROOKLYN BRIDGE</td>\n",
       "    </tr>\n",
       "    <tr>\n",
       "      <td>565155</td>\n",
       "      <td>BROOKLYN BRIDGE 456JZ</td>\n",
       "      <td>05/14/2019</td>\n",
       "      <td>12:00:00</td>\n",
       "      <td>1572686</td>\n",
       "      <td>2649727</td>\n",
       "      <td>2019-05-14 12:00:00</td>\n",
       "      <td>R210 R044 00-03-00 BROOKLYN BRIDGE</td>\n",
       "    </tr>\n",
       "    <tr>\n",
       "      <td>565156</td>\n",
       "      <td>BROOKLYN BRIDGE 456JZ</td>\n",
       "      <td>05/14/2019</td>\n",
       "      <td>16:00:00</td>\n",
       "      <td>1573181</td>\n",
       "      <td>2650380</td>\n",
       "      <td>2019-05-14 16:00:00</td>\n",
       "      <td>R210 R044 00-03-00 BROOKLYN BRIDGE</td>\n",
       "    </tr>\n",
       "    <tr>\n",
       "      <td>565157</td>\n",
       "      <td>BROOKLYN BRIDGE 456JZ</td>\n",
       "      <td>05/14/2019</td>\n",
       "      <td>17:51:02</td>\n",
       "      <td>1573539</td>\n",
       "      <td>2650741</td>\n",
       "      <td>2019-05-14 17:00:00</td>\n",
       "      <td>R210 R044 00-03-00 BROOKLYN BRIDGE</td>\n",
       "    </tr>\n",
       "    <tr>\n",
       "      <td>565163</td>\n",
       "      <td>BROOKLYN BRIDGE 456JZ</td>\n",
       "      <td>05/14/2019</td>\n",
       "      <td>17:59:04</td>\n",
       "      <td>1573560</td>\n",
       "      <td>2650776</td>\n",
       "      <td>2019-05-14 17:00:00</td>\n",
       "      <td>R210 R044 00-03-00 BROOKLYN BRIDGE</td>\n",
       "    </tr>\n",
       "    <tr>\n",
       "      <td>565162</td>\n",
       "      <td>BROOKLYN BRIDGE 456JZ</td>\n",
       "      <td>05/14/2019</td>\n",
       "      <td>17:57:42</td>\n",
       "      <td>1573557</td>\n",
       "      <td>2650768</td>\n",
       "      <td>2019-05-14 17:00:00</td>\n",
       "      <td>R210 R044 00-03-00 BROOKLYN BRIDGE</td>\n",
       "    </tr>\n",
       "    <tr>\n",
       "      <td>565161</td>\n",
       "      <td>BROOKLYN BRIDGE 456JZ</td>\n",
       "      <td>05/14/2019</td>\n",
       "      <td>17:56:22</td>\n",
       "      <td>1573553</td>\n",
       "      <td>2650761</td>\n",
       "      <td>2019-05-14 17:00:00</td>\n",
       "      <td>R210 R044 00-03-00 BROOKLYN BRIDGE</td>\n",
       "    </tr>\n",
       "    <tr>\n",
       "      <td>565160</td>\n",
       "      <td>BROOKLYN BRIDGE 456JZ</td>\n",
       "      <td>05/14/2019</td>\n",
       "      <td>17:55:02</td>\n",
       "      <td>1573547</td>\n",
       "      <td>2650761</td>\n",
       "      <td>2019-05-14 17:00:00</td>\n",
       "      <td>R210 R044 00-03-00 BROOKLYN BRIDGE</td>\n",
       "    </tr>\n",
       "  </tbody>\n",
       "</table>\n",
       "</div>"
      ],
      "text/plain": [
       "                      STATION        DATE      TIME  ENTRIES    EXITS  \\\n",
       "565152  BROOKLYN BRIDGE 456JZ  05/14/2019  00:00:00  1572455  2648298   \n",
       "565153  BROOKLYN BRIDGE 456JZ  05/14/2019  04:00:00  1572470  2648313   \n",
       "565154  BROOKLYN BRIDGE 456JZ  05/14/2019  08:00:00  1572506  2648643   \n",
       "565155  BROOKLYN BRIDGE 456JZ  05/14/2019  12:00:00  1572686  2649727   \n",
       "565156  BROOKLYN BRIDGE 456JZ  05/14/2019  16:00:00  1573181  2650380   \n",
       "565157  BROOKLYN BRIDGE 456JZ  05/14/2019  17:51:02  1573539  2650741   \n",
       "565163  BROOKLYN BRIDGE 456JZ  05/14/2019  17:59:04  1573560  2650776   \n",
       "565162  BROOKLYN BRIDGE 456JZ  05/14/2019  17:57:42  1573557  2650768   \n",
       "565161  BROOKLYN BRIDGE 456JZ  05/14/2019  17:56:22  1573553  2650761   \n",
       "565160  BROOKLYN BRIDGE 456JZ  05/14/2019  17:55:02  1573547  2650761   \n",
       "\n",
       "                 DATE_TIME                           TURNSTILE  \n",
       "565152 2019-05-14 00:00:00  R210 R044 00-03-00 BROOKLYN BRIDGE  \n",
       "565153 2019-05-14 04:00:00  R210 R044 00-03-00 BROOKLYN BRIDGE  \n",
       "565154 2019-05-14 08:00:00  R210 R044 00-03-00 BROOKLYN BRIDGE  \n",
       "565155 2019-05-14 12:00:00  R210 R044 00-03-00 BROOKLYN BRIDGE  \n",
       "565156 2019-05-14 16:00:00  R210 R044 00-03-00 BROOKLYN BRIDGE  \n",
       "565157 2019-05-14 17:00:00  R210 R044 00-03-00 BROOKLYN BRIDGE  \n",
       "565163 2019-05-14 17:00:00  R210 R044 00-03-00 BROOKLYN BRIDGE  \n",
       "565162 2019-05-14 17:00:00  R210 R044 00-03-00 BROOKLYN BRIDGE  \n",
       "565161 2019-05-14 17:00:00  R210 R044 00-03-00 BROOKLYN BRIDGE  \n",
       "565160 2019-05-14 17:00:00  R210 R044 00-03-00 BROOKLYN BRIDGE  "
      ]
     },
     "execution_count": 15,
     "metadata": {},
     "output_type": "execute_result"
    }
   ],
   "source": [
    "mask = ((MTA_df[\"TURNSTILE\"] == \"R210 R044 00-03-00 BROOKLYN BRIDGE\") & \n",
    "        (MTA_df[\"DATE_TIME\"].dt.date == datetime.datetime(2019, 5, 14).date()))\n",
    "\n",
    "MTA_df[mask].head(10)"
   ]
  },
  {
   "cell_type": "markdown",
   "metadata": {},
   "source": [
    "Note that there are multiple entries for the same \"hour\" with small increases in entries and exits. This is easily cleaned up as follows."
   ]
  },
  {
   "cell_type": "code",
   "execution_count": 16,
   "metadata": {},
   "outputs": [],
   "source": [
    "MTA_df.drop_duplicates(subset = [\"TURNSTILE\", \"DATE_TIME\"], keep=\"last\", inplace = True)"
   ]
  },
  {
   "cell_type": "code",
   "execution_count": 17,
   "metadata": {},
   "outputs": [
    {
     "data": {
      "text/html": [
       "<div>\n",
       "<style scoped>\n",
       "    .dataframe tbody tr th:only-of-type {\n",
       "        vertical-align: middle;\n",
       "    }\n",
       "\n",
       "    .dataframe tbody tr th {\n",
       "        vertical-align: top;\n",
       "    }\n",
       "\n",
       "    .dataframe thead th {\n",
       "        text-align: right;\n",
       "    }\n",
       "</style>\n",
       "<table border=\"1\" class=\"dataframe\">\n",
       "  <thead>\n",
       "    <tr style=\"text-align: right;\">\n",
       "      <th></th>\n",
       "      <th>STATION</th>\n",
       "      <th>DATE</th>\n",
       "      <th>TIME</th>\n",
       "      <th>ENTRIES</th>\n",
       "      <th>EXITS</th>\n",
       "      <th>DATE_TIME</th>\n",
       "      <th>TURNSTILE</th>\n",
       "    </tr>\n",
       "  </thead>\n",
       "  <tbody>\n",
       "    <tr>\n",
       "      <td>565152</td>\n",
       "      <td>BROOKLYN BRIDGE 456JZ</td>\n",
       "      <td>05/14/2019</td>\n",
       "      <td>00:00:00</td>\n",
       "      <td>1572455</td>\n",
       "      <td>2648298</td>\n",
       "      <td>2019-05-14 00:00:00</td>\n",
       "      <td>R210 R044 00-03-00 BROOKLYN BRIDGE</td>\n",
       "    </tr>\n",
       "    <tr>\n",
       "      <td>565153</td>\n",
       "      <td>BROOKLYN BRIDGE 456JZ</td>\n",
       "      <td>05/14/2019</td>\n",
       "      <td>04:00:00</td>\n",
       "      <td>1572470</td>\n",
       "      <td>2648313</td>\n",
       "      <td>2019-05-14 04:00:00</td>\n",
       "      <td>R210 R044 00-03-00 BROOKLYN BRIDGE</td>\n",
       "    </tr>\n",
       "    <tr>\n",
       "      <td>565154</td>\n",
       "      <td>BROOKLYN BRIDGE 456JZ</td>\n",
       "      <td>05/14/2019</td>\n",
       "      <td>08:00:00</td>\n",
       "      <td>1572506</td>\n",
       "      <td>2648643</td>\n",
       "      <td>2019-05-14 08:00:00</td>\n",
       "      <td>R210 R044 00-03-00 BROOKLYN BRIDGE</td>\n",
       "    </tr>\n",
       "    <tr>\n",
       "      <td>565155</td>\n",
       "      <td>BROOKLYN BRIDGE 456JZ</td>\n",
       "      <td>05/14/2019</td>\n",
       "      <td>12:00:00</td>\n",
       "      <td>1572686</td>\n",
       "      <td>2649727</td>\n",
       "      <td>2019-05-14 12:00:00</td>\n",
       "      <td>R210 R044 00-03-00 BROOKLYN BRIDGE</td>\n",
       "    </tr>\n",
       "    <tr>\n",
       "      <td>565156</td>\n",
       "      <td>BROOKLYN BRIDGE 456JZ</td>\n",
       "      <td>05/14/2019</td>\n",
       "      <td>16:00:00</td>\n",
       "      <td>1573181</td>\n",
       "      <td>2650380</td>\n",
       "      <td>2019-05-14 16:00:00</td>\n",
       "      <td>R210 R044 00-03-00 BROOKLYN BRIDGE</td>\n",
       "    </tr>\n",
       "    <tr>\n",
       "      <td>565158</td>\n",
       "      <td>BROOKLYN BRIDGE 456JZ</td>\n",
       "      <td>05/14/2019</td>\n",
       "      <td>17:52:22</td>\n",
       "      <td>1573543</td>\n",
       "      <td>2650746</td>\n",
       "      <td>2019-05-14 17:00:00</td>\n",
       "      <td>R210 R044 00-03-00 BROOKLYN BRIDGE</td>\n",
       "    </tr>\n",
       "    <tr>\n",
       "      <td>565208</td>\n",
       "      <td>BROOKLYN BRIDGE 456JZ</td>\n",
       "      <td>05/14/2019</td>\n",
       "      <td>18:59:03</td>\n",
       "      <td>1573705</td>\n",
       "      <td>2650924</td>\n",
       "      <td>2019-05-14 18:00:00</td>\n",
       "      <td>R210 R044 00-03-00 BROOKLYN BRIDGE</td>\n",
       "    </tr>\n",
       "    <tr>\n",
       "      <td>565215</td>\n",
       "      <td>BROOKLYN BRIDGE 456JZ</td>\n",
       "      <td>05/14/2019</td>\n",
       "      <td>19:08:19</td>\n",
       "      <td>1573729</td>\n",
       "      <td>2650941</td>\n",
       "      <td>2019-05-14 19:00:00</td>\n",
       "      <td>R210 R044 00-03-00 BROOKLYN BRIDGE</td>\n",
       "    </tr>\n",
       "    <tr>\n",
       "      <td>565229</td>\n",
       "      <td>BROOKLYN BRIDGE 456JZ</td>\n",
       "      <td>05/14/2019</td>\n",
       "      <td>20:00:00</td>\n",
       "      <td>1573796</td>\n",
       "      <td>2650998</td>\n",
       "      <td>2019-05-14 20:00:00</td>\n",
       "      <td>R210 R044 00-03-00 BROOKLYN BRIDGE</td>\n",
       "    </tr>\n",
       "  </tbody>\n",
       "</table>\n",
       "</div>"
      ],
      "text/plain": [
       "                      STATION        DATE      TIME  ENTRIES    EXITS  \\\n",
       "565152  BROOKLYN BRIDGE 456JZ  05/14/2019  00:00:00  1572455  2648298   \n",
       "565153  BROOKLYN BRIDGE 456JZ  05/14/2019  04:00:00  1572470  2648313   \n",
       "565154  BROOKLYN BRIDGE 456JZ  05/14/2019  08:00:00  1572506  2648643   \n",
       "565155  BROOKLYN BRIDGE 456JZ  05/14/2019  12:00:00  1572686  2649727   \n",
       "565156  BROOKLYN BRIDGE 456JZ  05/14/2019  16:00:00  1573181  2650380   \n",
       "565158  BROOKLYN BRIDGE 456JZ  05/14/2019  17:52:22  1573543  2650746   \n",
       "565208  BROOKLYN BRIDGE 456JZ  05/14/2019  18:59:03  1573705  2650924   \n",
       "565215  BROOKLYN BRIDGE 456JZ  05/14/2019  19:08:19  1573729  2650941   \n",
       "565229  BROOKLYN BRIDGE 456JZ  05/14/2019  20:00:00  1573796  2650998   \n",
       "\n",
       "                 DATE_TIME                           TURNSTILE  \n",
       "565152 2019-05-14 00:00:00  R210 R044 00-03-00 BROOKLYN BRIDGE  \n",
       "565153 2019-05-14 04:00:00  R210 R044 00-03-00 BROOKLYN BRIDGE  \n",
       "565154 2019-05-14 08:00:00  R210 R044 00-03-00 BROOKLYN BRIDGE  \n",
       "565155 2019-05-14 12:00:00  R210 R044 00-03-00 BROOKLYN BRIDGE  \n",
       "565156 2019-05-14 16:00:00  R210 R044 00-03-00 BROOKLYN BRIDGE  \n",
       "565158 2019-05-14 17:00:00  R210 R044 00-03-00 BROOKLYN BRIDGE  \n",
       "565208 2019-05-14 18:00:00  R210 R044 00-03-00 BROOKLYN BRIDGE  \n",
       "565215 2019-05-14 19:00:00  R210 R044 00-03-00 BROOKLYN BRIDGE  \n",
       "565229 2019-05-14 20:00:00  R210 R044 00-03-00 BROOKLYN BRIDGE  "
      ]
     },
     "execution_count": 17,
     "metadata": {},
     "output_type": "execute_result"
    }
   ],
   "source": [
    "mask = ((MTA_df[\"TURNSTILE\"] == \"R210 R044 00-03-00 BROOKLYN BRIDGE\") & \n",
    "        (MTA_df[\"DATE_TIME\"].dt.date == datetime.datetime(2019, 5, 14).date()))\n",
    "\n",
    "MTA_df[mask].head(10)"
   ]
  },
  {
   "cell_type": "markdown",
   "metadata": {},
   "source": [
    "Confirm ALL duplicates properly removed."
   ]
  },
  {
   "cell_type": "code",
   "execution_count": 18,
   "metadata": {},
   "outputs": [
    {
     "data": {
      "text/html": [
       "<div>\n",
       "<style scoped>\n",
       "    .dataframe tbody tr th:only-of-type {\n",
       "        vertical-align: middle;\n",
       "    }\n",
       "\n",
       "    .dataframe tbody tr th {\n",
       "        vertical-align: top;\n",
       "    }\n",
       "\n",
       "    .dataframe thead th {\n",
       "        text-align: right;\n",
       "    }\n",
       "</style>\n",
       "<table border=\"1\" class=\"dataframe\">\n",
       "  <thead>\n",
       "    <tr style=\"text-align: right;\">\n",
       "      <th></th>\n",
       "      <th>TURNSTILE</th>\n",
       "      <th>DATE_TIME</th>\n",
       "      <th>ENTRIES</th>\n",
       "    </tr>\n",
       "  </thead>\n",
       "  <tbody>\n",
       "    <tr>\n",
       "      <td>0</td>\n",
       "      <td>A002 R051 02-00-00 59 ST</td>\n",
       "      <td>2019-04-27 00:00:00</td>\n",
       "      <td>1</td>\n",
       "    </tr>\n",
       "    <tr>\n",
       "      <td>539762</td>\n",
       "      <td>R143 R032 02-00-00 TIMES SQ-42 ST</td>\n",
       "      <td>2019-05-04 12:00:00</td>\n",
       "      <td>1</td>\n",
       "    </tr>\n",
       "    <tr>\n",
       "      <td>539764</td>\n",
       "      <td>R143 R032 02-00-00 TIMES SQ-42 ST</td>\n",
       "      <td>2019-05-04 20:00:00</td>\n",
       "      <td>1</td>\n",
       "    </tr>\n",
       "    <tr>\n",
       "      <td>539765</td>\n",
       "      <td>R143 R032 02-00-00 TIMES SQ-42 ST</td>\n",
       "      <td>2019-05-05 00:00:00</td>\n",
       "      <td>1</td>\n",
       "    </tr>\n",
       "    <tr>\n",
       "      <td>539766</td>\n",
       "      <td>R143 R032 02-00-00 TIMES SQ-42 ST</td>\n",
       "      <td>2019-05-05 04:00:00</td>\n",
       "      <td>1</td>\n",
       "    </tr>\n",
       "  </tbody>\n",
       "</table>\n",
       "</div>"
      ],
      "text/plain": [
       "                                TURNSTILE           DATE_TIME  ENTRIES\n",
       "0                A002 R051 02-00-00 59 ST 2019-04-27 00:00:00        1\n",
       "539762  R143 R032 02-00-00 TIMES SQ-42 ST 2019-05-04 12:00:00        1\n",
       "539764  R143 R032 02-00-00 TIMES SQ-42 ST 2019-05-04 20:00:00        1\n",
       "539765  R143 R032 02-00-00 TIMES SQ-42 ST 2019-05-05 00:00:00        1\n",
       "539766  R143 R032 02-00-00 TIMES SQ-42 ST 2019-05-05 04:00:00        1"
      ]
     },
     "execution_count": 18,
     "metadata": {},
     "output_type": "execute_result"
    }
   ],
   "source": [
    "(MTA_df \n",
    " .sort_values(\"DATE_TIME\")\n",
    " .groupby([\"TURNSTILE\", \"DATE_TIME\"])\n",
    " .ENTRIES.count()\n",
    " .reset_index()\n",
    " .sort_values(\"ENTRIES\", ascending=False)).head(5)"
   ]
  },
  {
   "cell_type": "markdown",
   "metadata": {},
   "source": [
    "Since time data provided not especially granular, let's separate each day into morning and evening commutes. "
   ]
  },
  {
   "cell_type": "code",
   "execution_count": 19,
   "metadata": {},
   "outputs": [],
   "source": [
    "MTA_df.loc[MTA_df.DATE_TIME.dt.time < datetime.time(13), 'COMMUTE'] = \"Morning\"\n",
    "MTA_df.loc[MTA_df.DATE_TIME.dt.time >= datetime.time(13), 'COMMUTE'] = \"Evening\""
   ]
  },
  {
   "cell_type": "markdown",
   "metadata": {},
   "source": [
    "Let's see what we have."
   ]
  },
  {
   "cell_type": "code",
   "execution_count": 20,
   "metadata": {},
   "outputs": [
    {
     "data": {
      "text/html": [
       "<div>\n",
       "<style scoped>\n",
       "    .dataframe tbody tr th:only-of-type {\n",
       "        vertical-align: middle;\n",
       "    }\n",
       "\n",
       "    .dataframe tbody tr th {\n",
       "        vertical-align: top;\n",
       "    }\n",
       "\n",
       "    .dataframe thead th {\n",
       "        text-align: right;\n",
       "    }\n",
       "</style>\n",
       "<table border=\"1\" class=\"dataframe\">\n",
       "  <thead>\n",
       "    <tr style=\"text-align: right;\">\n",
       "      <th></th>\n",
       "      <th>STATION</th>\n",
       "      <th>DATE</th>\n",
       "      <th>TIME</th>\n",
       "      <th>ENTRIES</th>\n",
       "      <th>EXITS</th>\n",
       "      <th>DATE_TIME</th>\n",
       "      <th>TURNSTILE</th>\n",
       "      <th>COMMUTE</th>\n",
       "    </tr>\n",
       "  </thead>\n",
       "  <tbody>\n",
       "    <tr>\n",
       "      <td>0</td>\n",
       "      <td>59 ST NQR456W</td>\n",
       "      <td>04/27/2019</td>\n",
       "      <td>00:00:00</td>\n",
       "      <td>7035249</td>\n",
       "      <td>2384833</td>\n",
       "      <td>2019-04-27</td>\n",
       "      <td>A002 R051 02-00-00 59 ST</td>\n",
       "      <td>Morning</td>\n",
       "    </tr>\n",
       "    <tr>\n",
       "      <td>135000</td>\n",
       "      <td>14 ST 123FLM</td>\n",
       "      <td>04/27/2019</td>\n",
       "      <td>00:00:00</td>\n",
       "      <td>5909864</td>\n",
       "      <td>3052255</td>\n",
       "      <td>2019-04-27</td>\n",
       "      <td>R128 R105 01-00-02 14 ST</td>\n",
       "      <td>Morning</td>\n",
       "    </tr>\n",
       "    <tr>\n",
       "      <td>135042</td>\n",
       "      <td>14 ST 123FLM</td>\n",
       "      <td>04/27/2019</td>\n",
       "      <td>00:00:00</td>\n",
       "      <td>1344334</td>\n",
       "      <td>655618</td>\n",
       "      <td>2019-04-27</td>\n",
       "      <td>R128 R105 01-03-00 14 ST</td>\n",
       "      <td>Morning</td>\n",
       "    </tr>\n",
       "    <tr>\n",
       "      <td>135084</td>\n",
       "      <td>14 ST 123FLM</td>\n",
       "      <td>04/27/2019</td>\n",
       "      <td>00:00:00</td>\n",
       "      <td>6937255</td>\n",
       "      <td>3830435</td>\n",
       "      <td>2019-04-27</td>\n",
       "      <td>R128 R105 01-03-01 14 ST</td>\n",
       "      <td>Morning</td>\n",
       "    </tr>\n",
       "    <tr>\n",
       "      <td>135126</td>\n",
       "      <td>14 ST 123FLM</td>\n",
       "      <td>04/27/2019</td>\n",
       "      <td>00:00:00</td>\n",
       "      <td>1359599</td>\n",
       "      <td>697204</td>\n",
       "      <td>2019-04-27</td>\n",
       "      <td>R128 R105 01-03-02 14 ST</td>\n",
       "      <td>Morning</td>\n",
       "    </tr>\n",
       "  </tbody>\n",
       "</table>\n",
       "</div>"
      ],
      "text/plain": [
       "              STATION        DATE      TIME  ENTRIES    EXITS  DATE_TIME  \\\n",
       "0       59 ST NQR456W  04/27/2019  00:00:00  7035249  2384833 2019-04-27   \n",
       "135000   14 ST 123FLM  04/27/2019  00:00:00  5909864  3052255 2019-04-27   \n",
       "135042   14 ST 123FLM  04/27/2019  00:00:00  1344334   655618 2019-04-27   \n",
       "135084   14 ST 123FLM  04/27/2019  00:00:00  6937255  3830435 2019-04-27   \n",
       "135126   14 ST 123FLM  04/27/2019  00:00:00  1359599   697204 2019-04-27   \n",
       "\n",
       "                       TURNSTILE  COMMUTE  \n",
       "0       A002 R051 02-00-00 59 ST  Morning  \n",
       "135000  R128 R105 01-00-02 14 ST  Morning  \n",
       "135042  R128 R105 01-03-00 14 ST  Morning  \n",
       "135084  R128 R105 01-03-01 14 ST  Morning  \n",
       "135126  R128 R105 01-03-02 14 ST  Morning  "
      ]
     },
     "metadata": {},
     "output_type": "display_data"
    }
   ],
   "source": [
    "display(MTA_df.head())"
   ]
  },
  {
   "cell_type": "markdown",
   "metadata": {},
   "source": [
    "Since entry and exit information is cumulative, need to shift and take differences in order to get net counts for each day, turnstile, commute."
   ]
  },
  {
   "cell_type": "code",
   "execution_count": 21,
   "metadata": {},
   "outputs": [
    {
     "data": {
      "text/html": [
       "<div>\n",
       "<style scoped>\n",
       "    .dataframe tbody tr th:only-of-type {\n",
       "        vertical-align: middle;\n",
       "    }\n",
       "\n",
       "    .dataframe tbody tr th {\n",
       "        vertical-align: top;\n",
       "    }\n",
       "\n",
       "    .dataframe thead th {\n",
       "        text-align: right;\n",
       "    }\n",
       "</style>\n",
       "<table border=\"1\" class=\"dataframe\">\n",
       "  <thead>\n",
       "    <tr style=\"text-align: right;\">\n",
       "      <th></th>\n",
       "      <th>ENTRIES</th>\n",
       "      <th>EXITS</th>\n",
       "      <th>PREV_ENTRIES</th>\n",
       "      <th>PREV_EXITS</th>\n",
       "    </tr>\n",
       "  </thead>\n",
       "  <tbody>\n",
       "    <tr>\n",
       "      <td>count</td>\n",
       "      <td>8.096550e+05</td>\n",
       "      <td>8.096550e+05</td>\n",
       "      <td>8.047850e+05</td>\n",
       "      <td>8.047850e+05</td>\n",
       "    </tr>\n",
       "    <tr>\n",
       "      <td>mean</td>\n",
       "      <td>4.127798e+07</td>\n",
       "      <td>3.379135e+07</td>\n",
       "      <td>4.127204e+07</td>\n",
       "      <td>3.378827e+07</td>\n",
       "    </tr>\n",
       "    <tr>\n",
       "      <td>std</td>\n",
       "      <td>2.106998e+08</td>\n",
       "      <td>1.942629e+08</td>\n",
       "      <td>2.106779e+08</td>\n",
       "      <td>1.942546e+08</td>\n",
       "    </tr>\n",
       "    <tr>\n",
       "      <td>min</td>\n",
       "      <td>0.000000e+00</td>\n",
       "      <td>0.000000e+00</td>\n",
       "      <td>0.000000e+00</td>\n",
       "      <td>0.000000e+00</td>\n",
       "    </tr>\n",
       "    <tr>\n",
       "      <td>25%</td>\n",
       "      <td>3.542140e+05</td>\n",
       "      <td>1.452410e+05</td>\n",
       "      <td>3.543210e+05</td>\n",
       "      <td>1.452750e+05</td>\n",
       "    </tr>\n",
       "    <tr>\n",
       "      <td>50%</td>\n",
       "      <td>2.176850e+06</td>\n",
       "      <td>1.247628e+06</td>\n",
       "      <td>2.177031e+06</td>\n",
       "      <td>1.247790e+06</td>\n",
       "    </tr>\n",
       "    <tr>\n",
       "      <td>75%</td>\n",
       "      <td>6.790646e+06</td>\n",
       "      <td>4.599952e+06</td>\n",
       "      <td>6.790856e+06</td>\n",
       "      <td>4.600349e+06</td>\n",
       "    </tr>\n",
       "    <tr>\n",
       "      <td>max</td>\n",
       "      <td>2.129343e+09</td>\n",
       "      <td>2.124127e+09</td>\n",
       "      <td>2.129343e+09</td>\n",
       "      <td>2.124127e+09</td>\n",
       "    </tr>\n",
       "  </tbody>\n",
       "</table>\n",
       "</div>"
      ],
      "text/plain": [
       "            ENTRIES         EXITS  PREV_ENTRIES    PREV_EXITS\n",
       "count  8.096550e+05  8.096550e+05  8.047850e+05  8.047850e+05\n",
       "mean   4.127798e+07  3.379135e+07  4.127204e+07  3.378827e+07\n",
       "std    2.106998e+08  1.942629e+08  2.106779e+08  1.942546e+08\n",
       "min    0.000000e+00  0.000000e+00  0.000000e+00  0.000000e+00\n",
       "25%    3.542140e+05  1.452410e+05  3.543210e+05  1.452750e+05\n",
       "50%    2.176850e+06  1.247628e+06  2.177031e+06  1.247790e+06\n",
       "75%    6.790646e+06  4.599952e+06  6.790856e+06  4.600349e+06\n",
       "max    2.129343e+09  2.124127e+09  2.129343e+09  2.124127e+09"
      ]
     },
     "execution_count": 21,
     "metadata": {},
     "output_type": "execute_result"
    }
   ],
   "source": [
    "MTA_df[[\"PREV_DATE_TIME\", \"PREV_ENTRIES\", \"PREV_EXITS\"]] = (\n",
    "    MTA_df.groupby([\"TURNSTILE\"])[\"DATE_TIME\", \"ENTRIES\", \"EXITS\"]\n",
    "          .transform(lambda grp: grp.shift(1)))\n",
    "MTA_df.describe()"
   ]
  },
  {
   "cell_type": "code",
   "execution_count": 22,
   "metadata": {},
   "outputs": [
    {
     "data": {
      "text/html": [
       "<div>\n",
       "<style scoped>\n",
       "    .dataframe tbody tr th:only-of-type {\n",
       "        vertical-align: middle;\n",
       "    }\n",
       "\n",
       "    .dataframe tbody tr th {\n",
       "        vertical-align: top;\n",
       "    }\n",
       "\n",
       "    .dataframe thead th {\n",
       "        text-align: right;\n",
       "    }\n",
       "</style>\n",
       "<table border=\"1\" class=\"dataframe\">\n",
       "  <thead>\n",
       "    <tr style=\"text-align: right;\">\n",
       "      <th></th>\n",
       "      <th>ENTRIES</th>\n",
       "      <th>EXITS</th>\n",
       "      <th>PREV_ENTRIES</th>\n",
       "      <th>PREV_EXITS</th>\n",
       "    </tr>\n",
       "  </thead>\n",
       "  <tbody>\n",
       "    <tr>\n",
       "      <td>count</td>\n",
       "      <td>8.096550e+05</td>\n",
       "      <td>8.096550e+05</td>\n",
       "      <td>8.047850e+05</td>\n",
       "      <td>8.047850e+05</td>\n",
       "    </tr>\n",
       "    <tr>\n",
       "      <td>mean</td>\n",
       "      <td>4.127798e+07</td>\n",
       "      <td>3.379135e+07</td>\n",
       "      <td>4.127204e+07</td>\n",
       "      <td>3.378827e+07</td>\n",
       "    </tr>\n",
       "    <tr>\n",
       "      <td>std</td>\n",
       "      <td>2.106998e+08</td>\n",
       "      <td>1.942629e+08</td>\n",
       "      <td>2.106779e+08</td>\n",
       "      <td>1.942546e+08</td>\n",
       "    </tr>\n",
       "    <tr>\n",
       "      <td>min</td>\n",
       "      <td>0.000000e+00</td>\n",
       "      <td>0.000000e+00</td>\n",
       "      <td>0.000000e+00</td>\n",
       "      <td>0.000000e+00</td>\n",
       "    </tr>\n",
       "    <tr>\n",
       "      <td>25%</td>\n",
       "      <td>3.542140e+05</td>\n",
       "      <td>1.452410e+05</td>\n",
       "      <td>3.543210e+05</td>\n",
       "      <td>1.452750e+05</td>\n",
       "    </tr>\n",
       "    <tr>\n",
       "      <td>50%</td>\n",
       "      <td>2.176850e+06</td>\n",
       "      <td>1.247628e+06</td>\n",
       "      <td>2.177031e+06</td>\n",
       "      <td>1.247790e+06</td>\n",
       "    </tr>\n",
       "    <tr>\n",
       "      <td>75%</td>\n",
       "      <td>6.790646e+06</td>\n",
       "      <td>4.599952e+06</td>\n",
       "      <td>6.790856e+06</td>\n",
       "      <td>4.600349e+06</td>\n",
       "    </tr>\n",
       "    <tr>\n",
       "      <td>max</td>\n",
       "      <td>2.129343e+09</td>\n",
       "      <td>2.124127e+09</td>\n",
       "      <td>2.129343e+09</td>\n",
       "      <td>2.124127e+09</td>\n",
       "    </tr>\n",
       "  </tbody>\n",
       "</table>\n",
       "</div>"
      ],
      "text/plain": [
       "            ENTRIES         EXITS  PREV_ENTRIES    PREV_EXITS\n",
       "count  8.096550e+05  8.096550e+05  8.047850e+05  8.047850e+05\n",
       "mean   4.127798e+07  3.379135e+07  4.127204e+07  3.378827e+07\n",
       "std    2.106998e+08  1.942629e+08  2.106779e+08  1.942546e+08\n",
       "min    0.000000e+00  0.000000e+00  0.000000e+00  0.000000e+00\n",
       "25%    3.542140e+05  1.452410e+05  3.543210e+05  1.452750e+05\n",
       "50%    2.176850e+06  1.247628e+06  2.177031e+06  1.247790e+06\n",
       "75%    6.790646e+06  4.599952e+06  6.790856e+06  4.600349e+06\n",
       "max    2.129343e+09  2.124127e+09  2.129343e+09  2.124127e+09"
      ]
     },
     "execution_count": 22,
     "metadata": {},
     "output_type": "execute_result"
    }
   ],
   "source": [
    "MTA_df.describe()"
   ]
  },
  {
   "cell_type": "markdown",
   "metadata": {},
   "source": [
    "Street teams won't care if people are coming or going, so we'll combine entries and exits to determine \"total targets\" at each station and limit to a reasonable amount per time period (10,000)."
   ]
  },
  {
   "cell_type": "code",
   "execution_count": 23,
   "metadata": {},
   "outputs": [
    {
     "name": "stdout",
     "output_type": "stream",
     "text": [
      "3 5176463.0\n",
      "8 2021820.0\n",
      "607125572 594469.0\n",
      "29 6333363.0\n",
      "107 6546797.0\n",
      "326 3756473.0\n",
      "1129054485 2501642.0\n",
      "115 12739117.0\n",
      "39 3912187.0\n",
      "68858058 436510383.0\n",
      "458752 100663296.0\n",
      "65536 839317244.0\n",
      "12 4887309.0\n",
      "12 13653626.0\n",
      "131075 2222584.0\n",
      "50 1544151.0\n",
      "335090794 3422305.0\n",
      "184608117 746400.0\n",
      "182 2357557.0\n",
      "70 2898346.0\n",
      "39 4605762.0\n",
      "134 3073070.0\n",
      "119 7480484.0\n",
      "16778671 81157.0\n",
      "637573806 2503363.0\n",
      "2223006 131075.0\n",
      "230239 1887921.0\n",
      "1888605 230239.0\n",
      "683737068 458752.0\n",
      "254 1068632.0\n",
      "84 10463114.0\n",
      "196625 68461853.0\n",
      "1058563 102390700.0\n",
      "187 9441238.0\n",
      "72 8876720.0\n",
      "10 7602234.0\n",
      "140396510 1577638984.0\n",
      "146 36966629.0\n",
      "2063648840 8123329.0\n",
      "1150 4768484.0\n",
      "905996203 3558247.0\n",
      "30933207 6069289.0\n",
      "196614 2998692.0\n",
      "191 15418871.0\n",
      "423 6527930.0\n",
      "1178879075 4472670.0\n",
      "158 6999851.0\n",
      "4666 2204424.0\n",
      "569319973 4807409.0\n",
      "67 1087620.0\n",
      "170 9030142.0\n"
     ]
    }
   ],
   "source": [
    "def get_counts(row, max_counter):\n",
    "    counter = row[\"ENTRIES\"] - row[\"PREV_ENTRIES\"]\n",
    "    if counter < 0:\n",
    "        # Maybe counter is reversed?\n",
    "        counter = -counter\n",
    "    if counter > max_counter:\n",
    "        print(row[\"ENTRIES\"], row[\"PREV_ENTRIES\"])\n",
    "        counter = min(row[\"ENTRIES\"], row[\"PREV_ENTRIES\"])\n",
    "    if counter > max_counter:\n",
    "        # Check it again to make sure we are not giving a counter that's too big\n",
    "        return 0\n",
    "    return counter\n",
    "\n",
    "MTA_df[\"TOTAL_TARGETS\"] = MTA_df.apply(get_counts, axis=1, max_counter=1000000)\n",
    "MTA_df = MTA_df[(MTA_df.TOTAL_TARGETS <= 10000)]"
   ]
  },
  {
   "cell_type": "code",
   "execution_count": 24,
   "metadata": {},
   "outputs": [
    {
     "data": {
      "text/html": [
       "<div>\n",
       "<style scoped>\n",
       "    .dataframe tbody tr th:only-of-type {\n",
       "        vertical-align: middle;\n",
       "    }\n",
       "\n",
       "    .dataframe tbody tr th {\n",
       "        vertical-align: top;\n",
       "    }\n",
       "\n",
       "    .dataframe thead th {\n",
       "        text-align: right;\n",
       "    }\n",
       "</style>\n",
       "<table border=\"1\" class=\"dataframe\">\n",
       "  <thead>\n",
       "    <tr style=\"text-align: right;\">\n",
       "      <th></th>\n",
       "      <th>ENTRIES</th>\n",
       "      <th>EXITS</th>\n",
       "      <th>PREV_ENTRIES</th>\n",
       "      <th>PREV_EXITS</th>\n",
       "      <th>TOTAL_TARGETS</th>\n",
       "    </tr>\n",
       "  </thead>\n",
       "  <tbody>\n",
       "    <tr>\n",
       "      <td>count</td>\n",
       "      <td>8.046330e+05</td>\n",
       "      <td>8.046330e+05</td>\n",
       "      <td>8.046330e+05</td>\n",
       "      <td>8.046330e+05</td>\n",
       "      <td>804633.000000</td>\n",
       "    </tr>\n",
       "    <tr>\n",
       "      <td>mean</td>\n",
       "      <td>4.127754e+07</td>\n",
       "      <td>3.379048e+07</td>\n",
       "      <td>4.127152e+07</td>\n",
       "      <td>3.378781e+07</td>\n",
       "      <td>180.165198</td>\n",
       "    </tr>\n",
       "    <tr>\n",
       "      <td>std</td>\n",
       "      <td>2.106900e+08</td>\n",
       "      <td>1.942581e+08</td>\n",
       "      <td>2.106737e+08</td>\n",
       "      <td>1.942531e+08</td>\n",
       "      <td>265.773502</td>\n",
       "    </tr>\n",
       "    <tr>\n",
       "      <td>min</td>\n",
       "      <td>0.000000e+00</td>\n",
       "      <td>0.000000e+00</td>\n",
       "      <td>0.000000e+00</td>\n",
       "      <td>0.000000e+00</td>\n",
       "      <td>0.000000</td>\n",
       "    </tr>\n",
       "    <tr>\n",
       "      <td>25%</td>\n",
       "      <td>3.546350e+05</td>\n",
       "      <td>1.453420e+05</td>\n",
       "      <td>3.546100e+05</td>\n",
       "      <td>1.453090e+05</td>\n",
       "      <td>11.000000</td>\n",
       "    </tr>\n",
       "    <tr>\n",
       "      <td>50%</td>\n",
       "      <td>2.177631e+06</td>\n",
       "      <td>1.248010e+06</td>\n",
       "      <td>2.177713e+06</td>\n",
       "      <td>1.248069e+06</td>\n",
       "      <td>77.000000</td>\n",
       "    </tr>\n",
       "    <tr>\n",
       "      <td>75%</td>\n",
       "      <td>6.792008e+06</td>\n",
       "      <td>4.601036e+06</td>\n",
       "      <td>6.791966e+06</td>\n",
       "      <td>4.601168e+06</td>\n",
       "      <td>247.000000</td>\n",
       "    </tr>\n",
       "    <tr>\n",
       "      <td>max</td>\n",
       "      <td>2.129343e+09</td>\n",
       "      <td>2.124127e+09</td>\n",
       "      <td>2.129343e+09</td>\n",
       "      <td>2.124127e+09</td>\n",
       "      <td>9988.000000</td>\n",
       "    </tr>\n",
       "  </tbody>\n",
       "</table>\n",
       "</div>"
      ],
      "text/plain": [
       "            ENTRIES         EXITS  PREV_ENTRIES    PREV_EXITS  TOTAL_TARGETS\n",
       "count  8.046330e+05  8.046330e+05  8.046330e+05  8.046330e+05  804633.000000\n",
       "mean   4.127754e+07  3.379048e+07  4.127152e+07  3.378781e+07     180.165198\n",
       "std    2.106900e+08  1.942581e+08  2.106737e+08  1.942531e+08     265.773502\n",
       "min    0.000000e+00  0.000000e+00  0.000000e+00  0.000000e+00       0.000000\n",
       "25%    3.546350e+05  1.453420e+05  3.546100e+05  1.453090e+05      11.000000\n",
       "50%    2.177631e+06  1.248010e+06  2.177713e+06  1.248069e+06      77.000000\n",
       "75%    6.792008e+06  4.601036e+06  6.791966e+06  4.601168e+06     247.000000\n",
       "max    2.129343e+09  2.124127e+09  2.129343e+09  2.124127e+09    9988.000000"
      ]
     },
     "execution_count": 24,
     "metadata": {},
     "output_type": "execute_result"
    }
   ],
   "source": [
    "MTA_df.describe()"
   ]
  },
  {
   "cell_type": "markdown",
   "metadata": {},
   "source": [
    "Create final, clean data set for exploratory analysis.  Export as csv to handoff to teammate for additional analysis and plotting."
   ]
  },
  {
   "cell_type": "code",
   "execution_count": 25,
   "metadata": {},
   "outputs": [],
   "source": [
    "MTA_EDA_df = MTA_df[[\"STATION\", \"DATE\", \"COMMUTE\", \"TOTAL_TARGETS\"]]\n",
    "MTA_EDA_df.to_csv(r'MTA_EDA.csv', index = None, header=True)"
   ]
  },
  {
   "cell_type": "markdown",
   "metadata": {},
   "source": [
    "## 4. Exploratory Analysis\n",
    "### Importing Data and Adding Appropriate Columns"
   ]
  },
  {
   "cell_type": "code",
   "execution_count": 26,
   "metadata": {},
   "outputs": [
    {
     "data": {
      "text/html": [
       "<div>\n",
       "<style scoped>\n",
       "    .dataframe tbody tr th:only-of-type {\n",
       "        vertical-align: middle;\n",
       "    }\n",
       "\n",
       "    .dataframe tbody tr th {\n",
       "        vertical-align: top;\n",
       "    }\n",
       "\n",
       "    .dataframe thead th {\n",
       "        text-align: right;\n",
       "    }\n",
       "</style>\n",
       "<table border=\"1\" class=\"dataframe\">\n",
       "  <thead>\n",
       "    <tr style=\"text-align: right;\">\n",
       "      <th></th>\n",
       "      <th>STATION</th>\n",
       "      <th>DATE</th>\n",
       "      <th>COMMUTE</th>\n",
       "      <th>TOTAL_TARGETS</th>\n",
       "    </tr>\n",
       "  </thead>\n",
       "  <tbody>\n",
       "    <tr>\n",
       "      <td>0</td>\n",
       "      <td>14 ST-UNION SQ LNQR456W</td>\n",
       "      <td>04/27/2019</td>\n",
       "      <td>Morning</td>\n",
       "      <td>19.0</td>\n",
       "    </tr>\n",
       "    <tr>\n",
       "      <td>1</td>\n",
       "      <td>14 ST-UNION SQ LNQR456W</td>\n",
       "      <td>04/27/2019</td>\n",
       "      <td>Morning</td>\n",
       "      <td>15.0</td>\n",
       "    </tr>\n",
       "    <tr>\n",
       "      <td>2</td>\n",
       "      <td>14 ST-UNION SQ LNQR456W</td>\n",
       "      <td>04/27/2019</td>\n",
       "      <td>Morning</td>\n",
       "      <td>3.0</td>\n",
       "    </tr>\n",
       "    <tr>\n",
       "      <td>3</td>\n",
       "      <td>14 ST-UNION SQ LNQR456W</td>\n",
       "      <td>04/27/2019</td>\n",
       "      <td>Morning</td>\n",
       "      <td>39.0</td>\n",
       "    </tr>\n",
       "    <tr>\n",
       "      <td>4</td>\n",
       "      <td>14 ST-UNION SQ LNQR456W</td>\n",
       "      <td>04/27/2019</td>\n",
       "      <td>Morning</td>\n",
       "      <td>75.0</td>\n",
       "    </tr>\n",
       "  </tbody>\n",
       "</table>\n",
       "</div>"
      ],
      "text/plain": [
       "                   STATION        DATE  COMMUTE  TOTAL_TARGETS\n",
       "0  14 ST-UNION SQ LNQR456W  04/27/2019  Morning           19.0\n",
       "1  14 ST-UNION SQ LNQR456W  04/27/2019  Morning           15.0\n",
       "2  14 ST-UNION SQ LNQR456W  04/27/2019  Morning            3.0\n",
       "3  14 ST-UNION SQ LNQR456W  04/27/2019  Morning           39.0\n",
       "4  14 ST-UNION SQ LNQR456W  04/27/2019  Morning           75.0"
      ]
     },
     "execution_count": 26,
     "metadata": {},
     "output_type": "execute_result"
    }
   ],
   "source": [
    "# Import csv into a dataframe object and preview contents\n",
    "\n",
    "filename = 'MTA_EDA.csv'\n",
    "mta_data = pd.read_csv(filename)\n",
    "mta_data.head()"
   ]
  },
  {
   "cell_type": "code",
   "execution_count": 27,
   "metadata": {},
   "outputs": [
    {
     "data": {
      "text/html": [
       "<div>\n",
       "<style scoped>\n",
       "    .dataframe tbody tr th:only-of-type {\n",
       "        vertical-align: middle;\n",
       "    }\n",
       "\n",
       "    .dataframe tbody tr th {\n",
       "        vertical-align: top;\n",
       "    }\n",
       "\n",
       "    .dataframe thead th {\n",
       "        text-align: right;\n",
       "    }\n",
       "</style>\n",
       "<table border=\"1\" class=\"dataframe\">\n",
       "  <thead>\n",
       "    <tr style=\"text-align: right;\">\n",
       "      <th></th>\n",
       "      <th>TOTAL_TARGETS</th>\n",
       "    </tr>\n",
       "  </thead>\n",
       "  <tbody>\n",
       "    <tr>\n",
       "      <td>count</td>\n",
       "      <td>804633.000000</td>\n",
       "    </tr>\n",
       "    <tr>\n",
       "      <td>mean</td>\n",
       "      <td>180.165198</td>\n",
       "    </tr>\n",
       "    <tr>\n",
       "      <td>std</td>\n",
       "      <td>265.773502</td>\n",
       "    </tr>\n",
       "    <tr>\n",
       "      <td>min</td>\n",
       "      <td>0.000000</td>\n",
       "    </tr>\n",
       "    <tr>\n",
       "      <td>25%</td>\n",
       "      <td>11.000000</td>\n",
       "    </tr>\n",
       "    <tr>\n",
       "      <td>50%</td>\n",
       "      <td>77.000000</td>\n",
       "    </tr>\n",
       "    <tr>\n",
       "      <td>75%</td>\n",
       "      <td>247.000000</td>\n",
       "    </tr>\n",
       "    <tr>\n",
       "      <td>max</td>\n",
       "      <td>9988.000000</td>\n",
       "    </tr>\n",
       "  </tbody>\n",
       "</table>\n",
       "</div>"
      ],
      "text/plain": [
       "       TOTAL_TARGETS\n",
       "count  804633.000000\n",
       "mean      180.165198\n",
       "std       265.773502\n",
       "min         0.000000\n",
       "25%        11.000000\n",
       "50%        77.000000\n",
       "75%       247.000000\n",
       "max      9988.000000"
      ]
     },
     "execution_count": 27,
     "metadata": {},
     "output_type": "execute_result"
    }
   ],
   "source": [
    "# Check data characteristics\n",
    "mta_data.describe()"
   ]
  },
  {
   "cell_type": "code",
   "execution_count": 28,
   "metadata": {},
   "outputs": [
    {
     "data": {
      "text/html": [
       "<div>\n",
       "<style scoped>\n",
       "    .dataframe tbody tr th:only-of-type {\n",
       "        vertical-align: middle;\n",
       "    }\n",
       "\n",
       "    .dataframe tbody tr th {\n",
       "        vertical-align: top;\n",
       "    }\n",
       "\n",
       "    .dataframe thead th {\n",
       "        text-align: right;\n",
       "    }\n",
       "</style>\n",
       "<table border=\"1\" class=\"dataframe\">\n",
       "  <thead>\n",
       "    <tr style=\"text-align: right;\">\n",
       "      <th></th>\n",
       "      <th>STATION</th>\n",
       "      <th>DATE</th>\n",
       "      <th>COMMUTE</th>\n",
       "      <th>TOTAL_TARGETS</th>\n",
       "      <th>WEEKDAY</th>\n",
       "    </tr>\n",
       "  </thead>\n",
       "  <tbody>\n",
       "    <tr>\n",
       "      <td>0</td>\n",
       "      <td>14 ST-UNION SQ LNQR456W</td>\n",
       "      <td>2019-04-27</td>\n",
       "      <td>Morning</td>\n",
       "      <td>19.0</td>\n",
       "      <td>Saturday</td>\n",
       "    </tr>\n",
       "    <tr>\n",
       "      <td>1</td>\n",
       "      <td>14 ST-UNION SQ LNQR456W</td>\n",
       "      <td>2019-04-27</td>\n",
       "      <td>Morning</td>\n",
       "      <td>15.0</td>\n",
       "      <td>Saturday</td>\n",
       "    </tr>\n",
       "    <tr>\n",
       "      <td>2</td>\n",
       "      <td>14 ST-UNION SQ LNQR456W</td>\n",
       "      <td>2019-04-27</td>\n",
       "      <td>Morning</td>\n",
       "      <td>3.0</td>\n",
       "      <td>Saturday</td>\n",
       "    </tr>\n",
       "    <tr>\n",
       "      <td>3</td>\n",
       "      <td>14 ST-UNION SQ LNQR456W</td>\n",
       "      <td>2019-04-27</td>\n",
       "      <td>Morning</td>\n",
       "      <td>39.0</td>\n",
       "      <td>Saturday</td>\n",
       "    </tr>\n",
       "    <tr>\n",
       "      <td>4</td>\n",
       "      <td>14 ST-UNION SQ LNQR456W</td>\n",
       "      <td>2019-04-27</td>\n",
       "      <td>Morning</td>\n",
       "      <td>75.0</td>\n",
       "      <td>Saturday</td>\n",
       "    </tr>\n",
       "  </tbody>\n",
       "</table>\n",
       "</div>"
      ],
      "text/plain": [
       "                   STATION       DATE  COMMUTE  TOTAL_TARGETS   WEEKDAY\n",
       "0  14 ST-UNION SQ LNQR456W 2019-04-27  Morning           19.0  Saturday\n",
       "1  14 ST-UNION SQ LNQR456W 2019-04-27  Morning           15.0  Saturday\n",
       "2  14 ST-UNION SQ LNQR456W 2019-04-27  Morning            3.0  Saturday\n",
       "3  14 ST-UNION SQ LNQR456W 2019-04-27  Morning           39.0  Saturday\n",
       "4  14 ST-UNION SQ LNQR456W 2019-04-27  Morning           75.0  Saturday"
      ]
     },
     "execution_count": 28,
     "metadata": {},
     "output_type": "execute_result"
    }
   ],
   "source": [
    "# Convert DATE column to datetime obj\n",
    "mta_data['DATE'] = pd.to_datetime(mta_data['DATE'])\n",
    "\n",
    "# Create WEEKDAY column with string describing day of week\n",
    "mta_data['WEEKDAY'] = mta_data['DATE'].dt.day_name()\n",
    "mta_data.head()"
   ]
  },
  {
   "cell_type": "code",
   "execution_count": 29,
   "metadata": {},
   "outputs": [
    {
     "data": {
      "text/html": [
       "<div>\n",
       "<style scoped>\n",
       "    .dataframe tbody tr th:only-of-type {\n",
       "        vertical-align: middle;\n",
       "    }\n",
       "\n",
       "    .dataframe tbody tr th {\n",
       "        vertical-align: top;\n",
       "    }\n",
       "\n",
       "    .dataframe thead th {\n",
       "        text-align: right;\n",
       "    }\n",
       "</style>\n",
       "<table border=\"1\" class=\"dataframe\">\n",
       "  <thead>\n",
       "    <tr style=\"text-align: right;\">\n",
       "      <th></th>\n",
       "      <th>STATION</th>\n",
       "      <th>DATE</th>\n",
       "      <th>COMMUTE</th>\n",
       "      <th>TOTAL_TARGETS</th>\n",
       "      <th>WEEKDAY</th>\n",
       "      <th>DAY_TYPE</th>\n",
       "    </tr>\n",
       "  </thead>\n",
       "  <tbody>\n",
       "    <tr>\n",
       "      <td>0</td>\n",
       "      <td>14 ST-UNION SQ LNQR456W</td>\n",
       "      <td>2019-04-27</td>\n",
       "      <td>Morning</td>\n",
       "      <td>19.0</td>\n",
       "      <td>Saturday</td>\n",
       "      <td>weekend</td>\n",
       "    </tr>\n",
       "    <tr>\n",
       "      <td>1</td>\n",
       "      <td>14 ST-UNION SQ LNQR456W</td>\n",
       "      <td>2019-04-27</td>\n",
       "      <td>Morning</td>\n",
       "      <td>15.0</td>\n",
       "      <td>Saturday</td>\n",
       "      <td>weekend</td>\n",
       "    </tr>\n",
       "    <tr>\n",
       "      <td>2</td>\n",
       "      <td>14 ST-UNION SQ LNQR456W</td>\n",
       "      <td>2019-04-27</td>\n",
       "      <td>Morning</td>\n",
       "      <td>3.0</td>\n",
       "      <td>Saturday</td>\n",
       "      <td>weekend</td>\n",
       "    </tr>\n",
       "    <tr>\n",
       "      <td>3</td>\n",
       "      <td>14 ST-UNION SQ LNQR456W</td>\n",
       "      <td>2019-04-27</td>\n",
       "      <td>Morning</td>\n",
       "      <td>39.0</td>\n",
       "      <td>Saturday</td>\n",
       "      <td>weekend</td>\n",
       "    </tr>\n",
       "    <tr>\n",
       "      <td>4</td>\n",
       "      <td>14 ST-UNION SQ LNQR456W</td>\n",
       "      <td>2019-04-27</td>\n",
       "      <td>Morning</td>\n",
       "      <td>75.0</td>\n",
       "      <td>Saturday</td>\n",
       "      <td>weekend</td>\n",
       "    </tr>\n",
       "  </tbody>\n",
       "</table>\n",
       "</div>"
      ],
      "text/plain": [
       "                   STATION       DATE  COMMUTE  TOTAL_TARGETS   WEEKDAY  \\\n",
       "0  14 ST-UNION SQ LNQR456W 2019-04-27  Morning           19.0  Saturday   \n",
       "1  14 ST-UNION SQ LNQR456W 2019-04-27  Morning           15.0  Saturday   \n",
       "2  14 ST-UNION SQ LNQR456W 2019-04-27  Morning            3.0  Saturday   \n",
       "3  14 ST-UNION SQ LNQR456W 2019-04-27  Morning           39.0  Saturday   \n",
       "4  14 ST-UNION SQ LNQR456W 2019-04-27  Morning           75.0  Saturday   \n",
       "\n",
       "  DAY_TYPE  \n",
       "0  weekend  \n",
       "1  weekend  \n",
       "2  weekend  \n",
       "3  weekend  \n",
       "4  weekend  "
      ]
     },
     "execution_count": 29,
     "metadata": {},
     "output_type": "execute_result"
    }
   ],
   "source": [
    "# Create column with Day Type i.e. weekend or weekday\n",
    "# mta_data now has all columns we need for analysis\n",
    "\n",
    "weekend_days = ['Saturday','Sunday']\n",
    "mta_data['DAY_TYPE'] = mta_data['WEEKDAY'].apply(lambda x: 'weekend' if x in weekend_days else 'weekday') \n",
    "mta_data.head()"
   ]
  },
  {
   "cell_type": "code",
   "execution_count": 30,
   "metadata": {},
   "outputs": [
    {
     "data": {
      "text/html": [
       "<div>\n",
       "<style scoped>\n",
       "    .dataframe tbody tr th:only-of-type {\n",
       "        vertical-align: middle;\n",
       "    }\n",
       "\n",
       "    .dataframe tbody tr th {\n",
       "        vertical-align: top;\n",
       "    }\n",
       "\n",
       "    .dataframe thead th {\n",
       "        text-align: right;\n",
       "    }\n",
       "</style>\n",
       "<table border=\"1\" class=\"dataframe\">\n",
       "  <thead>\n",
       "    <tr style=\"text-align: right;\">\n",
       "      <th></th>\n",
       "      <th>STATION</th>\n",
       "      <th>DATE</th>\n",
       "      <th>COMMUTE</th>\n",
       "      <th>DAY_TYPE</th>\n",
       "      <th>TOTAL_TARGETS</th>\n",
       "    </tr>\n",
       "  </thead>\n",
       "  <tbody>\n",
       "    <tr>\n",
       "      <td>17386</td>\n",
       "      <td>GRD CNTRL-42 ST 4567S</td>\n",
       "      <td>2019-05-13</td>\n",
       "      <td>Evening</td>\n",
       "      <td>weekday</td>\n",
       "      <td>122107.0</td>\n",
       "    </tr>\n",
       "    <tr>\n",
       "      <td>17388</td>\n",
       "      <td>GRD CNTRL-42 ST 4567S</td>\n",
       "      <td>2019-05-14</td>\n",
       "      <td>Evening</td>\n",
       "      <td>weekday</td>\n",
       "      <td>120815.0</td>\n",
       "    </tr>\n",
       "    <tr>\n",
       "      <td>17362</td>\n",
       "      <td>GRD CNTRL-42 ST 4567S</td>\n",
       "      <td>2019-05-01</td>\n",
       "      <td>Evening</td>\n",
       "      <td>weekday</td>\n",
       "      <td>114695.0</td>\n",
       "    </tr>\n",
       "    <tr>\n",
       "      <td>17406</td>\n",
       "      <td>GRD CNTRL-42 ST 4567S</td>\n",
       "      <td>2019-05-23</td>\n",
       "      <td>Evening</td>\n",
       "      <td>weekday</td>\n",
       "      <td>114044.0</td>\n",
       "    </tr>\n",
       "    <tr>\n",
       "      <td>17402</td>\n",
       "      <td>GRD CNTRL-42 ST 4567S</td>\n",
       "      <td>2019-05-21</td>\n",
       "      <td>Evening</td>\n",
       "      <td>weekday</td>\n",
       "      <td>113739.0</td>\n",
       "    </tr>\n",
       "    <tr>\n",
       "      <td>...</td>\n",
       "      <td>...</td>\n",
       "      <td>...</td>\n",
       "      <td>...</td>\n",
       "      <td>...</td>\n",
       "      <td>...</td>\n",
       "    </tr>\n",
       "    <tr>\n",
       "      <td>3775</td>\n",
       "      <td>215 ST 1</td>\n",
       "      <td>2019-05-18</td>\n",
       "      <td>Evening</td>\n",
       "      <td>weekend</td>\n",
       "      <td>0.0</td>\n",
       "    </tr>\n",
       "    <tr>\n",
       "      <td>4181</td>\n",
       "      <td>231 ST 1</td>\n",
       "      <td>2019-04-27</td>\n",
       "      <td>Evening</td>\n",
       "      <td>weekend</td>\n",
       "      <td>0.0</td>\n",
       "    </tr>\n",
       "    <tr>\n",
       "      <td>22825</td>\n",
       "      <td>PENNSYLVANIA AV 3</td>\n",
       "      <td>2019-05-19</td>\n",
       "      <td>Evening</td>\n",
       "      <td>weekend</td>\n",
       "      <td>0.0</td>\n",
       "    </tr>\n",
       "    <tr>\n",
       "      <td>9531</td>\n",
       "      <td>AQUEDUCT N.COND A</td>\n",
       "      <td>2019-04-28</td>\n",
       "      <td>Evening</td>\n",
       "      <td>weekend</td>\n",
       "      <td>0.0</td>\n",
       "    </tr>\n",
       "    <tr>\n",
       "      <td>2955</td>\n",
       "      <td>18 AV N</td>\n",
       "      <td>2019-04-27</td>\n",
       "      <td>Morning</td>\n",
       "      <td>weekend</td>\n",
       "      <td>0.0</td>\n",
       "    </tr>\n",
       "  </tbody>\n",
       "</table>\n",
       "<p>26588 rows × 5 columns</p>\n",
       "</div>"
      ],
      "text/plain": [
       "                     STATION       DATE  COMMUTE DAY_TYPE  TOTAL_TARGETS\n",
       "17386  GRD CNTRL-42 ST 4567S 2019-05-13  Evening  weekday       122107.0\n",
       "17388  GRD CNTRL-42 ST 4567S 2019-05-14  Evening  weekday       120815.0\n",
       "17362  GRD CNTRL-42 ST 4567S 2019-05-01  Evening  weekday       114695.0\n",
       "17406  GRD CNTRL-42 ST 4567S 2019-05-23  Evening  weekday       114044.0\n",
       "17402  GRD CNTRL-42 ST 4567S 2019-05-21  Evening  weekday       113739.0\n",
       "...                      ...        ...      ...      ...            ...\n",
       "3775                215 ST 1 2019-05-18  Evening  weekend            0.0\n",
       "4181                231 ST 1 2019-04-27  Evening  weekend            0.0\n",
       "22825      PENNSYLVANIA AV 3 2019-05-19  Evening  weekend            0.0\n",
       "9531       AQUEDUCT N.COND A 2019-04-28  Evening  weekend            0.0\n",
       "2955                 18 AV N 2019-04-27  Morning  weekend            0.0\n",
       "\n",
       "[26588 rows x 5 columns]"
      ]
     },
     "execution_count": 30,
     "metadata": {},
     "output_type": "execute_result"
    }
   ],
   "source": [
    "# Group dataframe by STATION, DATE, COMMUTE, DAY_TYPE and deep copy to mta_grp\n",
    "\n",
    "mta_grp = (mta_data.groupby(['STATION','DATE','COMMUTE','DAY_TYPE'])\n",
    "                  .sum()\n",
    "                  .reset_index()\n",
    "                  .sort_values(\"TOTAL_TARGETS\", ascending=False)\n",
    "                  .copy())\n",
    "mta_grp"
   ]
  },
  {
   "cell_type": "markdown",
   "metadata": {},
   "source": [
    "### Organize Dataframes for Weekend vs Weekday Rideship Scatter Plots"
   ]
  },
  {
   "cell_type": "code",
   "execution_count": 31,
   "metadata": {},
   "outputs": [
    {
     "data": {
      "text/html": [
       "<div>\n",
       "<style scoped>\n",
       "    .dataframe tbody tr th:only-of-type {\n",
       "        vertical-align: middle;\n",
       "    }\n",
       "\n",
       "    .dataframe tbody tr th {\n",
       "        vertical-align: top;\n",
       "    }\n",
       "\n",
       "    .dataframe thead th {\n",
       "        text-align: right;\n",
       "    }\n",
       "</style>\n",
       "<table border=\"1\" class=\"dataframe\">\n",
       "  <thead>\n",
       "    <tr style=\"text-align: right;\">\n",
       "      <th></th>\n",
       "      <th>STATION</th>\n",
       "      <th>DAY_TYPE</th>\n",
       "      <th>TOTAL_TARGETS</th>\n",
       "    </tr>\n",
       "  </thead>\n",
       "  <tbody>\n",
       "    <tr>\n",
       "      <td>622</td>\n",
       "      <td>GRD CNTRL-42 ST 4567S</td>\n",
       "      <td>weekday</td>\n",
       "      <td>79477.800</td>\n",
       "    </tr>\n",
       "    <tr>\n",
       "      <td>178</td>\n",
       "      <td>34 ST-HERALD SQ BDFMNQRW</td>\n",
       "      <td>weekday</td>\n",
       "      <td>63448.075</td>\n",
       "    </tr>\n",
       "    <tr>\n",
       "      <td>204</td>\n",
       "      <td>42 ST-PORT AUTH ACENQRS1237W</td>\n",
       "      <td>weekday</td>\n",
       "      <td>46527.500</td>\n",
       "    </tr>\n",
       "    <tr>\n",
       "      <td>186</td>\n",
       "      <td>34 ST-PENN STA ACE</td>\n",
       "      <td>weekday</td>\n",
       "      <td>42977.325</td>\n",
       "    </tr>\n",
       "    <tr>\n",
       "      <td>54</td>\n",
       "      <td>14 ST-UNION SQ LNQR456W</td>\n",
       "      <td>weekday</td>\n",
       "      <td>36618.975</td>\n",
       "    </tr>\n",
       "    <tr>\n",
       "      <td>179</td>\n",
       "      <td>34 ST-HERALD SQ BDFMNQRW</td>\n",
       "      <td>weekend</td>\n",
       "      <td>34820.000</td>\n",
       "    </tr>\n",
       "    <tr>\n",
       "      <td>893</td>\n",
       "      <td>TIMES SQ-42 ST 1237ACENQRSW</td>\n",
       "      <td>weekday</td>\n",
       "      <td>34540.800</td>\n",
       "    </tr>\n",
       "    <tr>\n",
       "      <td>602</td>\n",
       "      <td>FULTON ST 2345ACJZ</td>\n",
       "      <td>weekday</td>\n",
       "      <td>32545.275</td>\n",
       "    </tr>\n",
       "    <tr>\n",
       "      <td>212</td>\n",
       "      <td>47-50 STS ROCK BDFM</td>\n",
       "      <td>weekday</td>\n",
       "      <td>31848.850</td>\n",
       "    </tr>\n",
       "    <tr>\n",
       "      <td>246</td>\n",
       "      <td>59 ST COLUMBUS ABCD1</td>\n",
       "      <td>weekday</td>\n",
       "      <td>30521.950</td>\n",
       "    </tr>\n",
       "    <tr>\n",
       "      <td>805</td>\n",
       "      <td>PATH NEW WTC 1</td>\n",
       "      <td>weekday</td>\n",
       "      <td>30055.500</td>\n",
       "    </tr>\n",
       "    <tr>\n",
       "      <td>576</td>\n",
       "      <td>FLUSHING-MAIN 7</td>\n",
       "      <td>weekday</td>\n",
       "      <td>29236.650</td>\n",
       "    </tr>\n",
       "    <tr>\n",
       "      <td>623</td>\n",
       "      <td>GRD CNTRL-42 ST 4567S</td>\n",
       "      <td>weekend</td>\n",
       "      <td>26703.375</td>\n",
       "    </tr>\n",
       "    <tr>\n",
       "      <td>205</td>\n",
       "      <td>42 ST-PORT AUTH ACENQRS1237W</td>\n",
       "      <td>weekend</td>\n",
       "      <td>26248.375</td>\n",
       "    </tr>\n",
       "    <tr>\n",
       "      <td>676</td>\n",
       "      <td>JKSN HT-ROOSVLT EFMR7</td>\n",
       "      <td>weekday</td>\n",
       "      <td>25519.225</td>\n",
       "    </tr>\n",
       "  </tbody>\n",
       "</table>\n",
       "</div>"
      ],
      "text/plain": [
       "                          STATION DAY_TYPE  TOTAL_TARGETS\n",
       "622         GRD CNTRL-42 ST 4567S  weekday      79477.800\n",
       "178      34 ST-HERALD SQ BDFMNQRW  weekday      63448.075\n",
       "204  42 ST-PORT AUTH ACENQRS1237W  weekday      46527.500\n",
       "186            34 ST-PENN STA ACE  weekday      42977.325\n",
       "54        14 ST-UNION SQ LNQR456W  weekday      36618.975\n",
       "179      34 ST-HERALD SQ BDFMNQRW  weekend      34820.000\n",
       "893   TIMES SQ-42 ST 1237ACENQRSW  weekday      34540.800\n",
       "602            FULTON ST 2345ACJZ  weekday      32545.275\n",
       "212           47-50 STS ROCK BDFM  weekday      31848.850\n",
       "246          59 ST COLUMBUS ABCD1  weekday      30521.950\n",
       "805                PATH NEW WTC 1  weekday      30055.500\n",
       "576               FLUSHING-MAIN 7  weekday      29236.650\n",
       "623         GRD CNTRL-42 ST 4567S  weekend      26703.375\n",
       "205  42 ST-PORT AUTH ACENQRS1237W  weekend      26248.375\n",
       "676         JKSN HT-ROOSVLT EFMR7  weekday      25519.225"
      ]
     },
     "execution_count": 31,
     "metadata": {},
     "output_type": "execute_result"
    }
   ],
   "source": [
    "# Create new grouping of dataframe that will be passed into pivot function for use in scatter plot generation\n",
    "\n",
    "to_pivot = (mta_grp.groupby(['STATION','DAY_TYPE'])\n",
    "                  .mean()\n",
    "                  .reset_index()\n",
    "                  .sort_values(\"TOTAL_TARGETS\", ascending=False))\n",
    "to_pivot.head(15)"
   ]
  },
  {
   "cell_type": "code",
   "execution_count": 32,
   "metadata": {},
   "outputs": [],
   "source": [
    "# Pivot Day_Type data into their own columns containing new columns of Weekday and Weekend housing \n",
    "# respective Total_Target values in preparatoin for scatter plot creation\n",
    "\n",
    "scatter_data = to_pivot.pivot('STATION','DAY_TYPE','TOTAL_TARGETS')"
   ]
  },
  {
   "cell_type": "code",
   "execution_count": 33,
   "metadata": {},
   "outputs": [
    {
     "data": {
      "text/html": [
       "<div>\n",
       "<style scoped>\n",
       "    .dataframe tbody tr th:only-of-type {\n",
       "        vertical-align: middle;\n",
       "    }\n",
       "\n",
       "    .dataframe tbody tr th {\n",
       "        vertical-align: top;\n",
       "    }\n",
       "\n",
       "    .dataframe thead th {\n",
       "        text-align: right;\n",
       "    }\n",
       "</style>\n",
       "<table border=\"1\" class=\"dataframe\">\n",
       "  <thead>\n",
       "    <tr style=\"text-align: right;\">\n",
       "      <th>DAY_TYPE</th>\n",
       "      <th>weekday</th>\n",
       "      <th>weekend</th>\n",
       "    </tr>\n",
       "    <tr>\n",
       "      <th>STATION</th>\n",
       "      <th></th>\n",
       "      <th></th>\n",
       "    </tr>\n",
       "  </thead>\n",
       "  <tbody>\n",
       "    <tr>\n",
       "      <td>GRD CNTRL-42 ST 4567S</td>\n",
       "      <td>79478.0</td>\n",
       "      <td>26703.0</td>\n",
       "    </tr>\n",
       "    <tr>\n",
       "      <td>34 ST-HERALD SQ BDFMNQRW</td>\n",
       "      <td>63448.0</td>\n",
       "      <td>34820.0</td>\n",
       "    </tr>\n",
       "    <tr>\n",
       "      <td>42 ST-PORT AUTH ACENQRS1237W</td>\n",
       "      <td>46528.0</td>\n",
       "      <td>26248.0</td>\n",
       "    </tr>\n",
       "    <tr>\n",
       "      <td>34 ST-PENN STA ACE</td>\n",
       "      <td>42977.0</td>\n",
       "      <td>22033.0</td>\n",
       "    </tr>\n",
       "    <tr>\n",
       "      <td>14 ST-UNION SQ LNQR456W</td>\n",
       "      <td>36619.0</td>\n",
       "      <td>20515.0</td>\n",
       "    </tr>\n",
       "    <tr>\n",
       "      <td>TIMES SQ-42 ST 1237ACENQRSW</td>\n",
       "      <td>34541.0</td>\n",
       "      <td>21328.0</td>\n",
       "    </tr>\n",
       "    <tr>\n",
       "      <td>FULTON ST 2345ACJZ</td>\n",
       "      <td>32545.0</td>\n",
       "      <td>10859.0</td>\n",
       "    </tr>\n",
       "    <tr>\n",
       "      <td>47-50 STS ROCK BDFM</td>\n",
       "      <td>31849.0</td>\n",
       "      <td>10415.0</td>\n",
       "    </tr>\n",
       "    <tr>\n",
       "      <td>59 ST COLUMBUS ABCD1</td>\n",
       "      <td>30522.0</td>\n",
       "      <td>18579.0</td>\n",
       "    </tr>\n",
       "    <tr>\n",
       "      <td>PATH NEW WTC 1</td>\n",
       "      <td>30056.0</td>\n",
       "      <td>2245.0</td>\n",
       "    </tr>\n",
       "  </tbody>\n",
       "</table>\n",
       "</div>"
      ],
      "text/plain": [
       "DAY_TYPE                      weekday  weekend\n",
       "STATION                                       \n",
       "GRD CNTRL-42 ST 4567S         79478.0  26703.0\n",
       "34 ST-HERALD SQ BDFMNQRW      63448.0  34820.0\n",
       "42 ST-PORT AUTH ACENQRS1237W  46528.0  26248.0\n",
       "34 ST-PENN STA ACE            42977.0  22033.0\n",
       "14 ST-UNION SQ LNQR456W       36619.0  20515.0\n",
       "TIMES SQ-42 ST 1237ACENQRSW   34541.0  21328.0\n",
       "FULTON ST 2345ACJZ            32545.0  10859.0\n",
       "47-50 STS ROCK BDFM           31849.0  10415.0\n",
       "59 ST COLUMBUS ABCD1          30522.0  18579.0\n",
       "PATH NEW WTC 1                30056.0   2245.0"
      ]
     },
     "execution_count": 33,
     "metadata": {},
     "output_type": "execute_result"
    }
   ],
   "source": [
    "# Sort dataframe for descending weekday volume and save first 10 rows to create a scatter for only top 10 stations.\n",
    "scatter_data_Top10 =(scatter_data.sort_values(\"weekday\", ascending=False)\n",
    "                                .round()\n",
    "                                .head(10))\n",
    "\n",
    "scatter_data_Top10"
   ]
  },
  {
   "cell_type": "code",
   "execution_count": 34,
   "metadata": {},
   "outputs": [
    {
     "data": {
      "text/html": [
       "<div>\n",
       "<style scoped>\n",
       "    .dataframe tbody tr th:only-of-type {\n",
       "        vertical-align: middle;\n",
       "    }\n",
       "\n",
       "    .dataframe tbody tr th {\n",
       "        vertical-align: top;\n",
       "    }\n",
       "\n",
       "    .dataframe thead th {\n",
       "        text-align: right;\n",
       "    }\n",
       "</style>\n",
       "<table border=\"1\" class=\"dataframe\">\n",
       "  <thead>\n",
       "    <tr style=\"text-align: right;\">\n",
       "      <th>DAY_TYPE</th>\n",
       "      <th>weekday</th>\n",
       "      <th>weekend</th>\n",
       "    </tr>\n",
       "    <tr>\n",
       "      <th>STATION</th>\n",
       "      <th></th>\n",
       "      <th></th>\n",
       "    </tr>\n",
       "  </thead>\n",
       "  <tbody>\n",
       "    <tr>\n",
       "      <td>34 ST-HERALD SQ BDFMNQRW</td>\n",
       "      <td>63448.0</td>\n",
       "      <td>34820.0</td>\n",
       "    </tr>\n",
       "    <tr>\n",
       "      <td>GRD CNTRL-42 ST 4567S</td>\n",
       "      <td>79478.0</td>\n",
       "      <td>26703.0</td>\n",
       "    </tr>\n",
       "    <tr>\n",
       "      <td>42 ST-PORT AUTH ACENQRS1237W</td>\n",
       "      <td>46528.0</td>\n",
       "      <td>26248.0</td>\n",
       "    </tr>\n",
       "    <tr>\n",
       "      <td>34 ST-PENN STA ACE</td>\n",
       "      <td>42977.0</td>\n",
       "      <td>22033.0</td>\n",
       "    </tr>\n",
       "    <tr>\n",
       "      <td>TIMES SQ-42 ST 1237ACENQRSW</td>\n",
       "      <td>34541.0</td>\n",
       "      <td>21328.0</td>\n",
       "    </tr>\n",
       "    <tr>\n",
       "      <td>14 ST-UNION SQ LNQR456W</td>\n",
       "      <td>36619.0</td>\n",
       "      <td>20515.0</td>\n",
       "    </tr>\n",
       "    <tr>\n",
       "      <td>59 ST COLUMBUS ABCD1</td>\n",
       "      <td>30522.0</td>\n",
       "      <td>18579.0</td>\n",
       "    </tr>\n",
       "    <tr>\n",
       "      <td>JKSN HT-ROOSVLT EFMR7</td>\n",
       "      <td>25519.0</td>\n",
       "      <td>17077.0</td>\n",
       "    </tr>\n",
       "    <tr>\n",
       "      <td>CANAL ST JNQRZ6W</td>\n",
       "      <td>24026.0</td>\n",
       "      <td>17062.0</td>\n",
       "    </tr>\n",
       "    <tr>\n",
       "      <td>W 4 ST-WASH SQ ABCDEFM</td>\n",
       "      <td>21809.0</td>\n",
       "      <td>16554.0</td>\n",
       "    </tr>\n",
       "  </tbody>\n",
       "</table>\n",
       "</div>"
      ],
      "text/plain": [
       "DAY_TYPE                      weekday  weekend\n",
       "STATION                                       \n",
       "34 ST-HERALD SQ BDFMNQRW      63448.0  34820.0\n",
       "GRD CNTRL-42 ST 4567S         79478.0  26703.0\n",
       "42 ST-PORT AUTH ACENQRS1237W  46528.0  26248.0\n",
       "34 ST-PENN STA ACE            42977.0  22033.0\n",
       "TIMES SQ-42 ST 1237ACENQRSW   34541.0  21328.0\n",
       "14 ST-UNION SQ LNQR456W       36619.0  20515.0\n",
       "59 ST COLUMBUS ABCD1          30522.0  18579.0\n",
       "JKSN HT-ROOSVLT EFMR7         25519.0  17077.0\n",
       "CANAL ST JNQRZ6W              24026.0  17062.0\n",
       "W 4 ST-WASH SQ ABCDEFM        21809.0  16554.0"
      ]
     },
     "execution_count": 34,
     "metadata": {},
     "output_type": "execute_result"
    }
   ],
   "source": [
    "# Sort dataframe for descending weekend volume figures just to see it\n",
    "(scatter_data.sort_values(\"weekend\", ascending=False)\n",
    "            .round()\n",
    "            .head(10))"
   ]
  },
  {
   "cell_type": "markdown",
   "metadata": {},
   "source": [
    "## 5. Plotting and Visualization"
   ]
  },
  {
   "cell_type": "code",
   "execution_count": 35,
   "metadata": {},
   "outputs": [
    {
     "data": {
      "image/png": "[encoded data removed]",
      "text/plain": [
       "<Figure size 432x288 with 1 Axes>"
      ]
     },
     "metadata": {
      "needs_background": "light"
     },
     "output_type": "display_data"
    }
   ],
   "source": [
    "# Create scatter plot of average daily station traffic on weekends vs. weekdays at ALL stations\n",
    "\n",
    "%matplotlib inline\n",
    "weekend_day_scat = scatter_data.plot.scatter('weekday','weekend');\n",
    "\n",
    "plt.xlim([0,85000]);\n",
    "plt.ylim([0,85000]); \n",
    "#make y-axis scale even with x-axis scalling to emphasize tilt in data towards commuters (weekday rider)\n",
    "plt.title('Average Daily Volume by Station')\n",
    "\n",
    "figure = weekend_day_scat.get_figure()    \n",
    "figure.savefig('Weekday vs Weekend Traffic', dpi=400, bbox_inches='tight',pad_inches=.25,)"
   ]
  },
  {
   "cell_type": "code",
   "execution_count": 36,
   "metadata": {},
   "outputs": [
    {
     "data": {
      "image/png": "[encoded data removed]",
      "text/plain": [
       "<Figure size 432x288 with 1 Axes>"
      ]
     },
     "metadata": {
      "needs_background": "light"
     },
     "output_type": "display_data"
    }
   ],
   "source": [
    "# Create scatter plot of top 10 stations with highest weekday traffic vs their weekend traffic\n",
    "# Chart not useful and was not added to presentation\n",
    "\n",
    "%matplotlib inline\n",
    "weekend_day_scat = scatter_data_Top10.plot.scatter('weekday','weekend');\n",
    "plt.xlim([0,80000]);\n",
    "plt.ylim([0,80000]);\n",
    "plt.title('Average Daily Volume by Station')\n",
    "figure = weekend_day_scat.get_figure()    \n",
    "figure.savefig('Weekday vs Weekend Traffic_top10', dpi=400, bbox_inches='tight',pad_inches=.25,)"
   ]
  },
  {
   "cell_type": "markdown",
   "metadata": {},
   "source": [
    "### Organize Dataframe for Horizontal Bar Charts"
   ]
  },
  {
   "cell_type": "code",
   "execution_count": 37,
   "metadata": {},
   "outputs": [
    {
     "data": {
      "text/html": [
       "<div>\n",
       "<style scoped>\n",
       "    .dataframe tbody tr th:only-of-type {\n",
       "        vertical-align: middle;\n",
       "    }\n",
       "\n",
       "    .dataframe tbody tr th {\n",
       "        vertical-align: top;\n",
       "    }\n",
       "\n",
       "    .dataframe thead th {\n",
       "        text-align: right;\n",
       "    }\n",
       "</style>\n",
       "<table border=\"1\" class=\"dataframe\">\n",
       "  <thead>\n",
       "    <tr style=\"text-align: right;\">\n",
       "      <th></th>\n",
       "      <th>STATION</th>\n",
       "      <th>COMMUTE</th>\n",
       "      <th>TOTAL_TARGETS</th>\n",
       "    </tr>\n",
       "  </thead>\n",
       "  <tbody>\n",
       "    <tr>\n",
       "      <td>0</td>\n",
       "      <td>GRD CNTRL-42 ST 4567S</td>\n",
       "      <td>Evening</td>\n",
       "      <td>88990.107143</td>\n",
       "    </tr>\n",
       "    <tr>\n",
       "      <td>1</td>\n",
       "      <td>34 ST-HERALD SQ BDFMNQRW</td>\n",
       "      <td>Evening</td>\n",
       "      <td>66530.250000</td>\n",
       "    </tr>\n",
       "    <tr>\n",
       "      <td>2</td>\n",
       "      <td>14 ST-UNION SQ LNQR456W</td>\n",
       "      <td>Evening</td>\n",
       "      <td>51303.821429</td>\n",
       "    </tr>\n",
       "    <tr>\n",
       "      <td>3</td>\n",
       "      <td>42 ST-PORT AUTH ACENQRS1237W</td>\n",
       "      <td>Morning</td>\n",
       "      <td>47118.928571</td>\n",
       "    </tr>\n",
       "    <tr>\n",
       "      <td>4</td>\n",
       "      <td>34 ST-HERALD SQ BDFMNQRW</td>\n",
       "      <td>Morning</td>\n",
       "      <td>44007.000000</td>\n",
       "    </tr>\n",
       "    <tr>\n",
       "      <td>...</td>\n",
       "      <td>...</td>\n",
       "      <td>...</td>\n",
       "      <td>...</td>\n",
       "    </tr>\n",
       "    <tr>\n",
       "      <td>949</td>\n",
       "      <td>BROAD CHANNEL AS</td>\n",
       "      <td>Evening</td>\n",
       "      <td>96.357143</td>\n",
       "    </tr>\n",
       "    <tr>\n",
       "      <td>950</td>\n",
       "      <td>BEACH 105 ST AS</td>\n",
       "      <td>Morning</td>\n",
       "      <td>96.321429</td>\n",
       "    </tr>\n",
       "    <tr>\n",
       "      <td>951</td>\n",
       "      <td>BEACH 105 ST AS</td>\n",
       "      <td>Evening</td>\n",
       "      <td>86.750000</td>\n",
       "    </tr>\n",
       "    <tr>\n",
       "      <td>952</td>\n",
       "      <td>ORCHARD BEACH 6</td>\n",
       "      <td>Evening</td>\n",
       "      <td>2.000000</td>\n",
       "    </tr>\n",
       "    <tr>\n",
       "      <td>953</td>\n",
       "      <td>ORCHARD BEACH 6</td>\n",
       "      <td>Morning</td>\n",
       "      <td>0.000000</td>\n",
       "    </tr>\n",
       "  </tbody>\n",
       "</table>\n",
       "<p>954 rows × 3 columns</p>\n",
       "</div>"
      ],
      "text/plain": [
       "                          STATION  COMMUTE  TOTAL_TARGETS\n",
       "0           GRD CNTRL-42 ST 4567S  Evening   88990.107143\n",
       "1        34 ST-HERALD SQ BDFMNQRW  Evening   66530.250000\n",
       "2         14 ST-UNION SQ LNQR456W  Evening   51303.821429\n",
       "3    42 ST-PORT AUTH ACENQRS1237W  Morning   47118.928571\n",
       "4        34 ST-HERALD SQ BDFMNQRW  Morning   44007.000000\n",
       "..                            ...      ...            ...\n",
       "949              BROAD CHANNEL AS  Evening      96.357143\n",
       "950               BEACH 105 ST AS  Morning      96.321429\n",
       "951               BEACH 105 ST AS  Evening      86.750000\n",
       "952               ORCHARD BEACH 6  Evening       2.000000\n",
       "953               ORCHARD BEACH 6  Morning       0.000000\n",
       "\n",
       "[954 rows x 3 columns]"
      ]
     },
     "execution_count": 37,
     "metadata": {},
     "output_type": "execute_result"
    }
   ],
   "source": [
    "# Group Dataframe by Station and Commute in prep for pivot and save as deep copy after reseting indicies.\n",
    "\n",
    "mta_grp2 = (mta_grp.groupby(['STATION','COMMUTE'])\n",
    "                   .mean()\n",
    "                   .sort_values(\"TOTAL_TARGETS\", ascending=False)\n",
    "                   .reset_index() \n",
    "                   .copy())\n",
    "mta_grp2"
   ]
  },
  {
   "cell_type": "code",
   "execution_count": 38,
   "metadata": {},
   "outputs": [
    {
     "data": {
      "text/html": [
       "<div>\n",
       "<style scoped>\n",
       "    .dataframe tbody tr th:only-of-type {\n",
       "        vertical-align: middle;\n",
       "    }\n",
       "\n",
       "    .dataframe tbody tr th {\n",
       "        vertical-align: top;\n",
       "    }\n",
       "\n",
       "    .dataframe thead th {\n",
       "        text-align: right;\n",
       "    }\n",
       "</style>\n",
       "<table border=\"1\" class=\"dataframe\">\n",
       "  <thead>\n",
       "    <tr style=\"text-align: right;\">\n",
       "      <th>COMMUTE</th>\n",
       "      <th>STATION</th>\n",
       "      <th>Average PM Ridership</th>\n",
       "      <th>Average AM Ridership</th>\n",
       "    </tr>\n",
       "  </thead>\n",
       "  <tbody>\n",
       "    <tr>\n",
       "      <td>311</td>\n",
       "      <td>GRD CNTRL-42 ST 4567S</td>\n",
       "      <td>88990.0</td>\n",
       "      <td>39809.0</td>\n",
       "    </tr>\n",
       "    <tr>\n",
       "      <td>89</td>\n",
       "      <td>34 ST-HERALD SQ BDFMNQRW</td>\n",
       "      <td>66530.0</td>\n",
       "      <td>44007.0</td>\n",
       "    </tr>\n",
       "    <tr>\n",
       "      <td>27</td>\n",
       "      <td>14 ST-UNION SQ LNQR456W</td>\n",
       "      <td>51304.0</td>\n",
       "      <td>12732.0</td>\n",
       "    </tr>\n",
       "    <tr>\n",
       "      <td>301</td>\n",
       "      <td>FULTON ST 2345ACJZ</td>\n",
       "      <td>41804.0</td>\n",
       "      <td>10895.0</td>\n",
       "    </tr>\n",
       "    <tr>\n",
       "      <td>106</td>\n",
       "      <td>47-50 STS ROCK BDFM</td>\n",
       "      <td>39230.0</td>\n",
       "      <td>12220.0</td>\n",
       "    </tr>\n",
       "    <tr>\n",
       "      <td>...</td>\n",
       "      <td>...</td>\n",
       "      <td>...</td>\n",
       "      <td>...</td>\n",
       "    </tr>\n",
       "    <tr>\n",
       "      <td>199</td>\n",
       "      <td>BEACH 44 ST A</td>\n",
       "      <td>194.0</td>\n",
       "      <td>408.0</td>\n",
       "    </tr>\n",
       "    <tr>\n",
       "      <td>203</td>\n",
       "      <td>BEACH 98 ST AS</td>\n",
       "      <td>182.0</td>\n",
       "      <td>198.0</td>\n",
       "    </tr>\n",
       "    <tr>\n",
       "      <td>220</td>\n",
       "      <td>BROAD CHANNEL AS</td>\n",
       "      <td>96.0</td>\n",
       "      <td>175.0</td>\n",
       "    </tr>\n",
       "    <tr>\n",
       "      <td>196</td>\n",
       "      <td>BEACH 105 ST AS</td>\n",
       "      <td>87.0</td>\n",
       "      <td>96.0</td>\n",
       "    </tr>\n",
       "    <tr>\n",
       "      <td>396</td>\n",
       "      <td>ORCHARD BEACH 6</td>\n",
       "      <td>2.0</td>\n",
       "      <td>0.0</td>\n",
       "    </tr>\n",
       "  </tbody>\n",
       "</table>\n",
       "<p>477 rows × 3 columns</p>\n",
       "</div>"
      ],
      "text/plain": [
       "COMMUTE                   STATION  Average PM Ridership  Average AM Ridership\n",
       "311         GRD CNTRL-42 ST 4567S               88990.0               39809.0\n",
       "89       34 ST-HERALD SQ BDFMNQRW               66530.0               44007.0\n",
       "27        14 ST-UNION SQ LNQR456W               51304.0               12732.0\n",
       "301            FULTON ST 2345ACJZ               41804.0               10895.0\n",
       "106           47-50 STS ROCK BDFM               39230.0               12220.0\n",
       "..                            ...                   ...                   ...\n",
       "199                 BEACH 44 ST A                 194.0                 408.0\n",
       "203                BEACH 98 ST AS                 182.0                 198.0\n",
       "220              BROAD CHANNEL AS                  96.0                 175.0\n",
       "196               BEACH 105 ST AS                  87.0                  96.0\n",
       "396               ORCHARD BEACH 6                   2.0                   0.0\n",
       "\n",
       "[477 rows x 3 columns]"
      ]
     },
     "execution_count": 38,
     "metadata": {},
     "output_type": "execute_result"
    }
   ],
   "source": [
    "# Create dataframe for PM Ridership Bar Chart for Top 10 stations and pivot data to columns for use in plt\n",
    "\n",
    "mta_grp2_pivot=mta_grp2.pivot('STATION','COMMUTE','TOTAL_TARGETS').reset_index()\n",
    "mta_evening_10 = mta_grp2_pivot.sort_values(\"Evening\", ascending=False)\\\n",
    "    .rename(columns={'Evening':'Average PM Ridership','Morning':'Average AM Ridership'})\n",
    "mta_evening_10.round()"
   ]
  },
  {
   "cell_type": "code",
   "execution_count": 39,
   "metadata": {},
   "outputs": [
    {
     "data": {
      "text/html": [
       "<div>\n",
       "<style scoped>\n",
       "    .dataframe tbody tr th:only-of-type {\n",
       "        vertical-align: middle;\n",
       "    }\n",
       "\n",
       "    .dataframe tbody tr th {\n",
       "        vertical-align: top;\n",
       "    }\n",
       "\n",
       "    .dataframe thead th {\n",
       "        text-align: right;\n",
       "    }\n",
       "</style>\n",
       "<table border=\"1\" class=\"dataframe\">\n",
       "  <thead>\n",
       "    <tr style=\"text-align: right;\">\n",
       "      <th>COMMUTE</th>\n",
       "      <th>index</th>\n",
       "      <th>STATION</th>\n",
       "      <th>Average PM Ridership</th>\n",
       "      <th>Average AM Ridership</th>\n",
       "    </tr>\n",
       "  </thead>\n",
       "  <tbody>\n",
       "    <tr>\n",
       "      <td>0</td>\n",
       "      <td>102</td>\n",
       "      <td>42 ST-PORT AUTH ACENQRS1237W</td>\n",
       "      <td>34348.0</td>\n",
       "      <td>47119.0</td>\n",
       "    </tr>\n",
       "    <tr>\n",
       "      <td>1</td>\n",
       "      <td>89</td>\n",
       "      <td>34 ST-HERALD SQ BDFMNQRW</td>\n",
       "      <td>66530.0</td>\n",
       "      <td>44007.0</td>\n",
       "    </tr>\n",
       "    <tr>\n",
       "      <td>2</td>\n",
       "      <td>311</td>\n",
       "      <td>GRD CNTRL-42 ST 4567S</td>\n",
       "      <td>88990.0</td>\n",
       "      <td>39809.0</td>\n",
       "    </tr>\n",
       "    <tr>\n",
       "      <td>3</td>\n",
       "      <td>93</td>\n",
       "      <td>34 ST-PENN STA ACE</td>\n",
       "      <td>34741.0</td>\n",
       "      <td>39245.0</td>\n",
       "    </tr>\n",
       "    <tr>\n",
       "      <td>4</td>\n",
       "      <td>288</td>\n",
       "      <td>FLUSHING-MAIN 7</td>\n",
       "      <td>19627.0</td>\n",
       "      <td>29614.0</td>\n",
       "    </tr>\n",
       "    <tr>\n",
       "      <td>...</td>\n",
       "      <td>...</td>\n",
       "      <td>...</td>\n",
       "      <td>...</td>\n",
       "      <td>...</td>\n",
       "    </tr>\n",
       "    <tr>\n",
       "      <td>472</td>\n",
       "      <td>273</td>\n",
       "      <td>E 143/ST MARY'S 6</td>\n",
       "      <td>668.0</td>\n",
       "      <td>224.0</td>\n",
       "    </tr>\n",
       "    <tr>\n",
       "      <td>473</td>\n",
       "      <td>203</td>\n",
       "      <td>BEACH 98 ST AS</td>\n",
       "      <td>182.0</td>\n",
       "      <td>198.0</td>\n",
       "    </tr>\n",
       "    <tr>\n",
       "      <td>474</td>\n",
       "      <td>220</td>\n",
       "      <td>BROAD CHANNEL AS</td>\n",
       "      <td>96.0</td>\n",
       "      <td>175.0</td>\n",
       "    </tr>\n",
       "    <tr>\n",
       "      <td>475</td>\n",
       "      <td>196</td>\n",
       "      <td>BEACH 105 ST AS</td>\n",
       "      <td>87.0</td>\n",
       "      <td>96.0</td>\n",
       "    </tr>\n",
       "    <tr>\n",
       "      <td>476</td>\n",
       "      <td>396</td>\n",
       "      <td>ORCHARD BEACH 6</td>\n",
       "      <td>2.0</td>\n",
       "      <td>0.0</td>\n",
       "    </tr>\n",
       "  </tbody>\n",
       "</table>\n",
       "<p>477 rows × 4 columns</p>\n",
       "</div>"
      ],
      "text/plain": [
       "COMMUTE  index                       STATION  Average PM Ridership  \\\n",
       "0          102  42 ST-PORT AUTH ACENQRS1237W               34348.0   \n",
       "1           89      34 ST-HERALD SQ BDFMNQRW               66530.0   \n",
       "2          311         GRD CNTRL-42 ST 4567S               88990.0   \n",
       "3           93            34 ST-PENN STA ACE               34741.0   \n",
       "4          288               FLUSHING-MAIN 7               19627.0   \n",
       "..         ...                           ...                   ...   \n",
       "472        273             E 143/ST MARY'S 6                 668.0   \n",
       "473        203                BEACH 98 ST AS                 182.0   \n",
       "474        220              BROAD CHANNEL AS                  96.0   \n",
       "475        196               BEACH 105 ST AS                  87.0   \n",
       "476        396               ORCHARD BEACH 6                   2.0   \n",
       "\n",
       "COMMUTE  Average AM Ridership  \n",
       "0                     47119.0  \n",
       "1                     44007.0  \n",
       "2                     39809.0  \n",
       "3                     39245.0  \n",
       "4                     29614.0  \n",
       "..                        ...  \n",
       "472                     224.0  \n",
       "473                     198.0  \n",
       "474                     175.0  \n",
       "475                      96.0  \n",
       "476                       0.0  \n",
       "\n",
       "[477 rows x 4 columns]"
      ]
     },
     "execution_count": 39,
     "metadata": {},
     "output_type": "execute_result"
    }
   ],
   "source": [
    "# Sort dataframe for AM Ridership Bar Chart for Top 10 stations\n",
    "\n",
    "mta_morning_10 = (mta_grp2_pivot.sort_values(\"Morning\", ascending=False)\n",
    "                               .reset_index()\n",
    "                               .rename(columns={'Evening':'Average PM Ridership',\\\n",
    "                                                'Morning':'Average AM Ridership'}))\n",
    "mta_morning_10.round()"
   ]
  },
  {
   "cell_type": "code",
   "execution_count": 40,
   "metadata": {},
   "outputs": [
    {
     "data": {
      "text/html": [
       "<div>\n",
       "<style scoped>\n",
       "    .dataframe tbody tr th:only-of-type {\n",
       "        vertical-align: middle;\n",
       "    }\n",
       "\n",
       "    .dataframe tbody tr th {\n",
       "        vertical-align: top;\n",
       "    }\n",
       "\n",
       "    .dataframe thead th {\n",
       "        text-align: right;\n",
       "    }\n",
       "</style>\n",
       "<table border=\"1\" class=\"dataframe\">\n",
       "  <thead>\n",
       "    <tr style=\"text-align: right;\">\n",
       "      <th></th>\n",
       "      <th>STATION</th>\n",
       "      <th>Average Daily Ridership</th>\n",
       "    </tr>\n",
       "  </thead>\n",
       "  <tbody>\n",
       "    <tr>\n",
       "      <td>311</td>\n",
       "      <td>GRD CNTRL-42 ST 4567S</td>\n",
       "      <td>128798.785714</td>\n",
       "    </tr>\n",
       "    <tr>\n",
       "      <td>89</td>\n",
       "      <td>34 ST-HERALD SQ BDFMNQRW</td>\n",
       "      <td>110537.250000</td>\n",
       "    </tr>\n",
       "    <tr>\n",
       "      <td>102</td>\n",
       "      <td>42 ST-PORT AUTH ACENQRS1237W</td>\n",
       "      <td>81466.928571</td>\n",
       "    </tr>\n",
       "    <tr>\n",
       "      <td>93</td>\n",
       "      <td>34 ST-PENN STA ACE</td>\n",
       "      <td>73986.428571</td>\n",
       "    </tr>\n",
       "    <tr>\n",
       "      <td>27</td>\n",
       "      <td>14 ST-UNION SQ LNQR456W</td>\n",
       "      <td>64035.464286</td>\n",
       "    </tr>\n",
       "    <tr>\n",
       "      <td>447</td>\n",
       "      <td>TIMES SQ-42 ST 1237ACENQRSW</td>\n",
       "      <td>61531.392857</td>\n",
       "    </tr>\n",
       "    <tr>\n",
       "      <td>123</td>\n",
       "      <td>59 ST COLUMBUS ABCD1</td>\n",
       "      <td>54219.428571</td>\n",
       "    </tr>\n",
       "    <tr>\n",
       "      <td>301</td>\n",
       "      <td>FULTON ST 2345ACJZ</td>\n",
       "      <td>52698.464286</td>\n",
       "    </tr>\n",
       "    <tr>\n",
       "      <td>106</td>\n",
       "      <td>47-50 STS ROCK BDFM</td>\n",
       "      <td>51449.928571</td>\n",
       "    </tr>\n",
       "    <tr>\n",
       "      <td>288</td>\n",
       "      <td>FLUSHING-MAIN 7</td>\n",
       "      <td>49241.464286</td>\n",
       "    </tr>\n",
       "  </tbody>\n",
       "</table>\n",
       "</div>"
      ],
      "text/plain": [
       "                          STATION  Average Daily Ridership\n",
       "311         GRD CNTRL-42 ST 4567S            128798.785714\n",
       "89       34 ST-HERALD SQ BDFMNQRW            110537.250000\n",
       "102  42 ST-PORT AUTH ACENQRS1237W             81466.928571\n",
       "93             34 ST-PENN STA ACE             73986.428571\n",
       "27        14 ST-UNION SQ LNQR456W             64035.464286\n",
       "447   TIMES SQ-42 ST 1237ACENQRSW             61531.392857\n",
       "123          59 ST COLUMBUS ABCD1             54219.428571\n",
       "301            FULTON ST 2345ACJZ             52698.464286\n",
       "106           47-50 STS ROCK BDFM             51449.928571\n",
       "288               FLUSHING-MAIN 7             49241.464286"
      ]
     },
     "execution_count": 40,
     "metadata": {},
     "output_type": "execute_result"
    }
   ],
   "source": [
    "# TOP 20 Stations - volume per day\n",
    "\n",
    "mta_grp3 = (mta_grp2.groupby(['STATION'])\n",
    "            .sum()\n",
    "            .reset_index()\n",
    "            .sort_values(\"TOTAL_TARGETS\", ascending=False)\n",
    "            .rename(columns={'TOTAL_TARGETS':'Average Daily Ridership'}))\n",
    "mta_top_10 = mta_grp3.head(10)\n",
    "mta_top_10.to_csv(r'MTA_Top10.csv', index = None, header=True)\n",
    "mta_top_10"
   ]
  },
  {
   "cell_type": "markdown",
   "metadata": {},
   "source": [
    "### Create Function to Create Bar Charts"
   ]
  },
  {
   "cell_type": "code",
   "execution_count": 41,
   "metadata": {},
   "outputs": [],
   "source": [
    "# Horizontal bar chart of Top Stations\n",
    "\n",
    "def top_stations(dataframe, num_stations_to_include, col_x_data, col_y_data, title, save_image_name):\n",
    "    \n",
    "    dataframe = dataframe.head(num_stations_to_include)\n",
    "    top_station_all = (sns.barplot(x = col_x_data, \n",
    "                                   y = col_y_data, \n",
    "                                   data = dataframe, \n",
    "                                   orient=\"h\")\n",
    "                                   .set_title(title));\n",
    "    \n",
    "    # store figure to name\n",
    "    figure = top_station_all.get_figure()    \n",
    "    \n",
    "    # save figure and export, bbox_inches \"tight\" to define margins, which were initially cutting off station names\n",
    "    figure.savefig(save_image_name, dpi=400, bbox_inches='tight',pad_inches=.25)"
   ]
  },
  {
   "cell_type": "code",
   "execution_count": 42,
   "metadata": {},
   "outputs": [],
   "source": [
    "# Reset index and rename column in order to control bar chart axis name ('Average Daily Ridership')\n",
    "\n",
    "(mta_grp3.reset_index()\n",
    "         .round()\n",
    "         .rename(columns={'TOTAL_TARGETS':'Average Daily Ridership'})\n",
    "         .head(10));"
   ]
  },
  {
   "cell_type": "markdown",
   "metadata": {},
   "source": [
    "### Create Bar Charts For AM and PM Ridership Using top_stations( ) Function"
   ]
  },
  {
   "cell_type": "code",
   "execution_count": 43,
   "metadata": {},
   "outputs": [
    {
     "data": {
      "image/png": "[encoded data removed]",
      "text/plain": [
       "<Figure size 432x288 with 1 Axes>"
      ]
     },
     "metadata": {
      "needs_background": "light"
     },
     "output_type": "display_data"
    }
   ],
   "source": [
    "top_stations(dataframe = mta_grp3, \n",
    "             num_stations_to_include = 10,\n",
    "             col_x_data = 'Average Daily Ridership', \n",
    "             col_y_data = 'STATION',\n",
    "             title = 'Ave Daily Ridership per Station', \n",
    "             save_image_name = 'Ave_Daily_Vol');"
   ]
  },
  {
   "cell_type": "code",
   "execution_count": 44,
   "metadata": {},
   "outputs": [
    {
     "data": {
      "image/png": "[encoded data removed]",
      "text/plain": [
       "<Figure size 432x288 with 1 Axes>"
      ]
     },
     "metadata": {
      "needs_background": "light"
     },
     "output_type": "display_data"
    }
   ],
   "source": [
    "# Create PM Ridership Bar Chart\n",
    "top_stations(dataframe = mta_evening_10, \n",
    "             num_stations_to_include = 10,\n",
    "             col_x_data = 'Average PM Ridership', \n",
    "             col_y_data = 'STATION',\n",
    "             title = 'Ave Evening Ridership per Station', \n",
    "             save_image_name = 'Top_PM_Vol');"
   ]
  },
  {
   "cell_type": "code",
   "execution_count": 45,
   "metadata": {},
   "outputs": [
    {
     "data": {
      "image/png": "[encoded data removed]",
      "text/plain": [
       "<Figure size 432x288 with 1 Axes>"
      ]
     },
     "metadata": {
      "needs_background": "light"
     },
     "output_type": "display_data"
    }
   ],
   "source": [
    "# Create AM Ridership Bar Chart\n",
    "top_stations(dataframe = mta_morning_10, \n",
    "             num_stations_to_include = 10,\n",
    "             col_x_data = 'Average AM Ridership', \n",
    "             col_y_data = 'STATION',\n",
    "             title = 'Ave Morning Ridership per Station', \n",
    "             save_image_name = 'Top_AM_Vol');"
   ]
  },
  {
   "cell_type": "markdown",
   "metadata": {},
   "source": [
    "## 6. Maps"
   ]
  },
  {
   "cell_type": "code",
   "execution_count": 46,
   "metadata": {},
   "outputs": [],
   "source": [
    "offices_sqft = pd.read_csv('Location Data - Largest SQFT.csv')\n",
    "offices_pop = pd.read_csv('Location Data - Most Employees.csv')\n",
    "station_data = pd.read_csv('NYC_Transit_Subway_Entrance_And_Exit_Data.csv')"
   ]
  },
  {
   "cell_type": "code",
   "execution_count": 47,
   "metadata": {},
   "outputs": [],
   "source": [
    "def add_coords(dataframe):\n",
    "    '''\n",
    "    Accepts dataframe of location data with address column,\n",
    "    Adds 2 new float columns to dataframe with latitude and longitude coordinates\n",
    "    for later use in folium map\n",
    "    \n",
    "    Relies on geopy geocode information\n",
    "    Geopy returns 2 cols:\n",
    "        0: str containing descriptive data related to address\n",
    "        1: tuple containing latitude and longitude as floats\n",
    "    \n",
    "    '''\n",
    "    lat,lon = [],[]\n",
    "    for i in range(len(dataframe)):\n",
    "        location = geolocator.geocode(dataframe['Location'][i])\n",
    "        lat.append(location[-1][0])\n",
    "        lon.append(location[-1][1])\n",
    "\n",
    "    dataframe['Latitude'] = lat\n",
    "    dataframe['Longitude'] = lon"
   ]
  },
  {
   "cell_type": "code",
   "execution_count": 48,
   "metadata": {},
   "outputs": [],
   "source": [
    "add_coords(offices_sqft)\n",
    "add_coords(offices_pop)\n",
    "#No need to add coordinates to the MTA data, it's already in there"
   ]
  },
  {
   "cell_type": "code",
   "execution_count": 49,
   "metadata": {},
   "outputs": [],
   "source": [
    "station_data.rename(columns=lambda x: x.strip().replace(' ','_'), inplace=True)"
   ]
  },
  {
   "cell_type": "code",
   "execution_count": 50,
   "metadata": {},
   "outputs": [
    {
     "data": {
      "text/plain": [
       "Index(['Division', 'Line', 'Station_Name', 'Station_Latitude',\n",
       "       'Station_Longitude', 'Route1', 'Route2', 'Route3', 'Route4', 'Route5',\n",
       "       'Route6', 'Route7', 'Route8', 'Route9', 'Route10', 'Route11',\n",
       "       'Entrance_Type', 'Entry', 'Exit_Only', 'Vending', 'Staffing',\n",
       "       'Staff_Hours', 'ADA', 'ADA_Notes', 'Free_Crossover',\n",
       "       'North_South_Street', 'East_West_Street', 'Corner', 'Entrance_Latitude',\n",
       "       'Entrance_Longitude', 'Station_Location', 'Entrance_Location'],\n",
       "      dtype='object')"
      ]
     },
     "execution_count": 50,
     "metadata": {},
     "output_type": "execute_result"
    }
   ],
   "source": [
    "station_data.columns"
   ]
  },
  {
   "cell_type": "code",
   "execution_count": 51,
   "metadata": {},
   "outputs": [],
   "source": [
    "for i in range(1,12):\n",
    "    station_data[f'Route{i}']=station_data[f'Route{i}'].astype(str)\n",
    "    station_data[f'Route{i}']=station_data[f'Route{i}'].str.replace('nan','')\n",
    "\n",
    "    \n",
    "    '''\n",
    "    Some MTA lines have numbers for names\n",
    "    and they're in this df as either floats or ints.\n",
    "    This code converts them to strings to concatenate into\n",
    "    an identifying code to prevent overlaps in station names\n",
    "    '''\n"
   ]
  },
  {
   "cell_type": "code",
   "execution_count": 52,
   "metadata": {},
   "outputs": [],
   "source": [
    "station_data['Station_ID'] =\\\n",
    "station_data['Division']+' '+\\\n",
    "station_data['Line']+' '+\\\n",
    "station_data['Station_Name']+' '+\\\n",
    "station_data['Route1']+\\\n",
    "station_data['Route2']+\\\n",
    "station_data['Route3']+\\\n",
    "station_data['Route4']+\\\n",
    "station_data['Route5']+\\\n",
    "station_data['Route6']+\\\n",
    "station_data['Route7']+\\\n",
    "station_data['Route8']+\\\n",
    "station_data['Route9']+\\\n",
    "station_data['Route10']+\\\n",
    "station_data['Route11']\n",
    "\n",
    "#concatenating individual info into identifying column"
   ]
  },
  {
   "cell_type": "code",
   "execution_count": 53,
   "metadata": {},
   "outputs": [
    {
     "name": "stderr",
     "output_type": "stream",
     "text": [
      "/Users/andrewway/opt/anaconda3/lib/python3.7/site-packages/ipykernel_launcher.py:2: SettingWithCopyWarning: \n",
      "A value is trying to be set on a copy of a slice from a DataFrame\n",
      "\n",
      "See the caveats in the documentation: http://pandas.pydata.org/pandas-docs/stable/user_guide/indexing.html#returning-a-view-versus-a-copy\n",
      "  \n"
     ]
    }
   ],
   "source": [
    "station_legend = station_data[['Station_Name','Station_ID','Station_Latitude','Station_Longitude']]\n",
    "station_legend.drop_duplicates(inplace=True)\n",
    "station_legend.reset_index(drop=True,inplace=True)\n",
    "\n",
    "#This block creates a legend with just the columns I want,\n",
    "#then removes the repeat entries and resets the index"
   ]
  },
  {
   "cell_type": "code",
   "execution_count": 54,
   "metadata": {},
   "outputs": [],
   "source": [
    "mta_top_10.reset_index(drop=True,inplace=True)"
   ]
  },
  {
   "cell_type": "code",
   "execution_count": 55,
   "metadata": {
    "scrolled": true
   },
   "outputs": [
    {
     "data": {
      "text/html": [
       "<div>\n",
       "<style scoped>\n",
       "    .dataframe tbody tr th:only-of-type {\n",
       "        vertical-align: middle;\n",
       "    }\n",
       "\n",
       "    .dataframe tbody tr th {\n",
       "        vertical-align: top;\n",
       "    }\n",
       "\n",
       "    .dataframe thead th {\n",
       "        text-align: right;\n",
       "    }\n",
       "</style>\n",
       "<table border=\"1\" class=\"dataframe\">\n",
       "  <thead>\n",
       "    <tr style=\"text-align: right;\">\n",
       "      <th></th>\n",
       "      <th>STATION</th>\n",
       "      <th>Average Daily Ridership</th>\n",
       "    </tr>\n",
       "  </thead>\n",
       "  <tbody>\n",
       "    <tr>\n",
       "      <td>0</td>\n",
       "      <td>GRD CNTRL-42 ST 4567S</td>\n",
       "      <td>128798.785714</td>\n",
       "    </tr>\n",
       "    <tr>\n",
       "      <td>1</td>\n",
       "      <td>34 ST-HERALD SQ BDFMNQRW</td>\n",
       "      <td>110537.250000</td>\n",
       "    </tr>\n",
       "    <tr>\n",
       "      <td>2</td>\n",
       "      <td>42 ST-PORT AUTH ACENQRS1237W</td>\n",
       "      <td>81466.928571</td>\n",
       "    </tr>\n",
       "    <tr>\n",
       "      <td>3</td>\n",
       "      <td>34 ST-PENN STA ACE</td>\n",
       "      <td>73986.428571</td>\n",
       "    </tr>\n",
       "    <tr>\n",
       "      <td>4</td>\n",
       "      <td>14 ST-UNION SQ LNQR456W</td>\n",
       "      <td>64035.464286</td>\n",
       "    </tr>\n",
       "    <tr>\n",
       "      <td>5</td>\n",
       "      <td>TIMES SQ-42 ST 1237ACENQRSW</td>\n",
       "      <td>61531.392857</td>\n",
       "    </tr>\n",
       "    <tr>\n",
       "      <td>6</td>\n",
       "      <td>59 ST COLUMBUS ABCD1</td>\n",
       "      <td>54219.428571</td>\n",
       "    </tr>\n",
       "    <tr>\n",
       "      <td>7</td>\n",
       "      <td>FULTON ST 2345ACJZ</td>\n",
       "      <td>52698.464286</td>\n",
       "    </tr>\n",
       "    <tr>\n",
       "      <td>8</td>\n",
       "      <td>47-50 STS ROCK BDFM</td>\n",
       "      <td>51449.928571</td>\n",
       "    </tr>\n",
       "    <tr>\n",
       "      <td>9</td>\n",
       "      <td>FLUSHING-MAIN 7</td>\n",
       "      <td>49241.464286</td>\n",
       "    </tr>\n",
       "  </tbody>\n",
       "</table>\n",
       "</div>"
      ],
      "text/plain": [
       "                        STATION  Average Daily Ridership\n",
       "0         GRD CNTRL-42 ST 4567S            128798.785714\n",
       "1      34 ST-HERALD SQ BDFMNQRW            110537.250000\n",
       "2  42 ST-PORT AUTH ACENQRS1237W             81466.928571\n",
       "3            34 ST-PENN STA ACE             73986.428571\n",
       "4       14 ST-UNION SQ LNQR456W             64035.464286\n",
       "5   TIMES SQ-42 ST 1237ACENQRSW             61531.392857\n",
       "6          59 ST COLUMBUS ABCD1             54219.428571\n",
       "7            FULTON ST 2345ACJZ             52698.464286\n",
       "8           47-50 STS ROCK BDFM             51449.928571\n",
       "9               FLUSHING-MAIN 7             49241.464286"
      ]
     },
     "execution_count": 55,
     "metadata": {},
     "output_type": "execute_result"
    }
   ],
   "source": [
    "mta_top_10"
   ]
  },
  {
   "cell_type": "markdown",
   "metadata": {},
   "source": [
    "This next section is pretty ugly and manual.  Given that these datasets have markedly different conventions for name formatting, I'll be poking around to find the correct coordinates and then attach them to the appropriate entry, based on my own domain knowledge of the MTA.  I chose this tactic because the connection between the turnstile 'STATION' entry and station legend 'Station_Name' entry was rather ambiguous. I also knew this  would only be for 10 items, and with the understanding that it isn't scalable much further beyond this quantity.\n",
    "\n",
    "\n",
    "\n",
    "_A Way_"
   ]
  },
  {
   "cell_type": "code",
   "execution_count": 56,
   "metadata": {},
   "outputs": [
    {
     "data": {
      "text/plain": [
       "STATION                    GRD CNTRL-42 ST 4567S\n",
       "Average Daily Ridership                   128799\n",
       "Name: 0, dtype: object"
      ]
     },
     "execution_count": 56,
     "metadata": {},
     "output_type": "execute_result"
    }
   ],
   "source": [
    "mta_top_10.iloc[0]"
   ]
  },
  {
   "cell_type": "code",
   "execution_count": 57,
   "metadata": {},
   "outputs": [],
   "source": [
    "def legend_finder(search_query):\n",
    "    return station_legend[station_legend['Station_Name'].str.contains(search_query)]\n",
    "\n",
    "    '''\n",
    "    This function is a shortcut to search for a string in a station name\n",
    "    Input: string, one you expect to be in the station name\n",
    "    Output: df containing entries where input is present in station name\n",
    "    '''"
   ]
  },
  {
   "cell_type": "code",
   "execution_count": 58,
   "metadata": {},
   "outputs": [
    {
     "data": {
      "text/html": [
       "<div>\n",
       "<style scoped>\n",
       "    .dataframe tbody tr th:only-of-type {\n",
       "        vertical-align: middle;\n",
       "    }\n",
       "\n",
       "    .dataframe tbody tr th {\n",
       "        vertical-align: top;\n",
       "    }\n",
       "\n",
       "    .dataframe thead th {\n",
       "        text-align: right;\n",
       "    }\n",
       "</style>\n",
       "<table border=\"1\" class=\"dataframe\">\n",
       "  <thead>\n",
       "    <tr style=\"text-align: right;\">\n",
       "      <th></th>\n",
       "      <th>Station_Name</th>\n",
       "      <th>Station_ID</th>\n",
       "      <th>Station_Latitude</th>\n",
       "      <th>Station_Longitude</th>\n",
       "    </tr>\n",
       "  </thead>\n",
       "  <tbody>\n",
       "    <tr>\n",
       "      <td>295</td>\n",
       "      <td>Grand Central</td>\n",
       "      <td>IRT 42nd St Shuttle Grand Central GS4567</td>\n",
       "      <td>40.752769</td>\n",
       "      <td>-73.979189</td>\n",
       "    </tr>\n",
       "    <tr>\n",
       "      <td>365</td>\n",
       "      <td>Grand Central-42nd St</td>\n",
       "      <td>IRT Flushing Grand Central-42nd St GS4567</td>\n",
       "      <td>40.751431</td>\n",
       "      <td>-73.976041</td>\n",
       "    </tr>\n",
       "    <tr>\n",
       "      <td>423</td>\n",
       "      <td>Grand Central-42nd St</td>\n",
       "      <td>IRT Lexington Grand Central-42nd St GS4567</td>\n",
       "      <td>40.751776</td>\n",
       "      <td>-73.976848</td>\n",
       "    </tr>\n",
       "  </tbody>\n",
       "</table>\n",
       "</div>"
      ],
      "text/plain": [
       "              Station_Name                                  Station_ID  \\\n",
       "295          Grand Central    IRT 42nd St Shuttle Grand Central GS4567   \n",
       "365  Grand Central-42nd St   IRT Flushing Grand Central-42nd St GS4567   \n",
       "423  Grand Central-42nd St  IRT Lexington Grand Central-42nd St GS4567   \n",
       "\n",
       "     Station_Latitude  Station_Longitude  \n",
       "295         40.752769         -73.979189  \n",
       "365         40.751431         -73.976041  \n",
       "423         40.751776         -73.976848  "
      ]
     },
     "execution_count": 58,
     "metadata": {},
     "output_type": "execute_result"
    }
   ],
   "source": [
    "legend_finder('Grand Central')"
   ]
  },
  {
   "cell_type": "markdown",
   "metadata": {},
   "source": [
    "8 of our 10 top stations are junctions, stations that serve 2 or more unique lines.  This means that our station legend (and the datasets preceding it) have seperate entries and coordinates for each section of platforms.  For example, in the case of Grand Central, there are 3 entries:\n",
    "\n",
    "Station Name | Description\n",
    ":--|:--\n",
    "IRT Lexington Grand Central-42nd St | the 4/5/6 trains running North/South\n",
    "IRT Flushing Grand Central-42nd St GS4567 | the 7 train running East/West\n",
    "IRT 42nd St Shuttle Grand Central | the S shuttle, a half-length train connecting Grand Central to Times Square\n",
    "\n",
    "Given that our geographical coordinates extend to 6 decimal places, and that differences in geographical coordinates at the 4th decimal place are a maximum of ~30 feet at the equator, these differences are negligible.\n",
    "\n",
    "I'll be using my best judgement to focus on the platform that is closest to ground level and closest to the center of the station, based on renderings from http://www.projectsubwaynyc.com/.\n",
    "\n",
    "_A Way_"
   ]
  },
  {
   "cell_type": "code",
   "execution_count": 59,
   "metadata": {},
   "outputs": [],
   "source": [
    "lat_list = []\n",
    "lon_list = [] #we will add coordinates in order to these two lists, then add them to our top 10"
   ]
  },
  {
   "cell_type": "code",
   "execution_count": 60,
   "metadata": {},
   "outputs": [],
   "source": [
    "def coord_add(station_string):\n",
    "    lat_list.append(station_legend[station_legend.Station_ID == station_string]\n",
    "                              ['Station_Latitude'])\n",
    "    lon_list.append(station_legend[station_legend.Station_ID == station_string]\n",
    "                              ['Station_Longitude'])\n",
    "    return 'coords_added'"
   ]
  },
  {
   "cell_type": "code",
   "execution_count": 61,
   "metadata": {},
   "outputs": [
    {
     "data": {
      "text/plain": [
       "'coords_added'"
      ]
     },
     "execution_count": 61,
     "metadata": {},
     "output_type": "execute_result"
    }
   ],
   "source": [
    "coord_add('IRT Lexington Grand Central-42nd St GS4567') #4/5/6 platform"
   ]
  },
  {
   "cell_type": "code",
   "execution_count": 62,
   "metadata": {},
   "outputs": [
    {
     "data": {
      "text/plain": [
       "STATION                    34 ST-HERALD SQ BDFMNQRW\n",
       "Average Daily Ridership                      110537\n",
       "Name: 1, dtype: object"
      ]
     },
     "execution_count": 62,
     "metadata": {},
     "output_type": "execute_result"
    }
   ],
   "source": [
    "mta_top_10.iloc[1]"
   ]
  },
  {
   "cell_type": "code",
   "execution_count": 63,
   "metadata": {},
   "outputs": [
    {
     "data": {
      "text/html": [
       "<div>\n",
       "<style scoped>\n",
       "    .dataframe tbody tr th:only-of-type {\n",
       "        vertical-align: middle;\n",
       "    }\n",
       "\n",
       "    .dataframe tbody tr th {\n",
       "        vertical-align: top;\n",
       "    }\n",
       "\n",
       "    .dataframe thead th {\n",
       "        text-align: right;\n",
       "    }\n",
       "</style>\n",
       "<table border=\"1\" class=\"dataframe\">\n",
       "  <thead>\n",
       "    <tr style=\"text-align: right;\">\n",
       "      <th></th>\n",
       "      <th>Station_Name</th>\n",
       "      <th>Station_ID</th>\n",
       "      <th>Station_Latitude</th>\n",
       "      <th>Station_Longitude</th>\n",
       "    </tr>\n",
       "  </thead>\n",
       "  <tbody>\n",
       "    <tr>\n",
       "      <td>42</td>\n",
       "      <td>34th St</td>\n",
       "      <td>BMT Broadway 34th St BDFMNQR</td>\n",
       "      <td>40.749567</td>\n",
       "      <td>-73.987950</td>\n",
       "    </tr>\n",
       "    <tr>\n",
       "      <td>149</td>\n",
       "      <td>34th St</td>\n",
       "      <td>IND 6 Avenue 34th St BDFMNQR</td>\n",
       "      <td>40.749719</td>\n",
       "      <td>-73.987823</td>\n",
       "    </tr>\n",
       "    <tr>\n",
       "      <td>180</td>\n",
       "      <td>34th St</td>\n",
       "      <td>IND 8 Avenue 34th St ACE</td>\n",
       "      <td>40.752287</td>\n",
       "      <td>-73.993391</td>\n",
       "    </tr>\n",
       "    <tr>\n",
       "      <td>314</td>\n",
       "      <td>34th St</td>\n",
       "      <td>IRT Broadway-7th Ave 34th St 123</td>\n",
       "      <td>40.750373</td>\n",
       "      <td>-73.991057</td>\n",
       "    </tr>\n",
       "  </tbody>\n",
       "</table>\n",
       "</div>"
      ],
      "text/plain": [
       "    Station_Name                        Station_ID  Station_Latitude  \\\n",
       "42       34th St      BMT Broadway 34th St BDFMNQR         40.749567   \n",
       "149      34th St      IND 6 Avenue 34th St BDFMNQR         40.749719   \n",
       "180      34th St          IND 8 Avenue 34th St ACE         40.752287   \n",
       "314      34th St  IRT Broadway-7th Ave 34th St 123         40.750373   \n",
       "\n",
       "     Station_Longitude  \n",
       "42          -73.987950  \n",
       "149         -73.987823  \n",
       "180         -73.993391  \n",
       "314         -73.991057  "
      ]
     },
     "execution_count": 63,
     "metadata": {},
     "output_type": "execute_result"
    }
   ],
   "source": [
    "legend_finder('34th')"
   ]
  },
  {
   "cell_type": "code",
   "execution_count": 64,
   "metadata": {},
   "outputs": [
    {
     "data": {
      "text/plain": [
       "'coords_added'"
      ]
     },
     "execution_count": 64,
     "metadata": {},
     "output_type": "execute_result"
    }
   ],
   "source": [
    "coord_add('BMT Broadway 34th St BDFMNQR') #N/Q/R/W platform"
   ]
  },
  {
   "cell_type": "code",
   "execution_count": 65,
   "metadata": {},
   "outputs": [
    {
     "data": {
      "text/plain": [
       "STATION                    42 ST-PORT AUTH ACENQRS1237W\n",
       "Average Daily Ridership                         81466.9\n",
       "Name: 2, dtype: object"
      ]
     },
     "execution_count": 65,
     "metadata": {},
     "output_type": "execute_result"
    }
   ],
   "source": [
    "mta_top_10.iloc[2]"
   ]
  },
  {
   "cell_type": "code",
   "execution_count": 66,
   "metadata": {},
   "outputs": [
    {
     "data": {
      "text/html": [
       "<div>\n",
       "<style scoped>\n",
       "    .dataframe tbody tr th:only-of-type {\n",
       "        vertical-align: middle;\n",
       "    }\n",
       "\n",
       "    .dataframe tbody tr th {\n",
       "        vertical-align: top;\n",
       "    }\n",
       "\n",
       "    .dataframe thead th {\n",
       "        text-align: right;\n",
       "    }\n",
       "</style>\n",
       "<table border=\"1\" class=\"dataframe\">\n",
       "  <thead>\n",
       "    <tr style=\"text-align: right;\">\n",
       "      <th></th>\n",
       "      <th>Station_Name</th>\n",
       "      <th>Station_ID</th>\n",
       "      <th>Station_Latitude</th>\n",
       "      <th>Station_Longitude</th>\n",
       "    </tr>\n",
       "  </thead>\n",
       "  <tbody>\n",
       "    <tr>\n",
       "      <td>55</td>\n",
       "      <td>Times Square-42nd St</td>\n",
       "      <td>BMT Broadway Times Square-42nd St ACENQRS1.02....</td>\n",
       "      <td>40.754672</td>\n",
       "      <td>-73.986754</td>\n",
       "    </tr>\n",
       "    <tr>\n",
       "      <td>150</td>\n",
       "      <td>42nd St</td>\n",
       "      <td>IND 6 Avenue 42nd St BDFM7</td>\n",
       "      <td>40.754222</td>\n",
       "      <td>-73.984569</td>\n",
       "    </tr>\n",
       "    <tr>\n",
       "      <td>181</td>\n",
       "      <td>42nd St</td>\n",
       "      <td>IND 8 Avenue 42nd St ACENQRS1.02.03.07.0</td>\n",
       "      <td>40.757308</td>\n",
       "      <td>-73.989735</td>\n",
       "    </tr>\n",
       "    <tr>\n",
       "      <td>333</td>\n",
       "      <td>Van Cortlandt Park-242nd St</td>\n",
       "      <td>IRT Broadway-7th Ave Van Cortlandt Park-242nd ...</td>\n",
       "      <td>40.889248</td>\n",
       "      <td>-73.898583</td>\n",
       "    </tr>\n",
       "    <tr>\n",
       "      <td>365</td>\n",
       "      <td>Grand Central-42nd St</td>\n",
       "      <td>IRT Flushing Grand Central-42nd St GS4567</td>\n",
       "      <td>40.751431</td>\n",
       "      <td>-73.976041</td>\n",
       "    </tr>\n",
       "    <tr>\n",
       "      <td>423</td>\n",
       "      <td>Grand Central-42nd St</td>\n",
       "      <td>IRT Lexington Grand Central-42nd St GS4567</td>\n",
       "      <td>40.751776</td>\n",
       "      <td>-73.976848</td>\n",
       "    </tr>\n",
       "  </tbody>\n",
       "</table>\n",
       "</div>"
      ],
      "text/plain": [
       "                    Station_Name  \\\n",
       "55          Times Square-42nd St   \n",
       "150                      42nd St   \n",
       "181                      42nd St   \n",
       "333  Van Cortlandt Park-242nd St   \n",
       "365        Grand Central-42nd St   \n",
       "423        Grand Central-42nd St   \n",
       "\n",
       "                                            Station_ID  Station_Latitude  \\\n",
       "55   BMT Broadway Times Square-42nd St ACENQRS1.02....         40.754672   \n",
       "150                         IND 6 Avenue 42nd St BDFM7         40.754222   \n",
       "181           IND 8 Avenue 42nd St ACENQRS1.02.03.07.0         40.757308   \n",
       "333  IRT Broadway-7th Ave Van Cortlandt Park-242nd ...         40.889248   \n",
       "365          IRT Flushing Grand Central-42nd St GS4567         40.751431   \n",
       "423         IRT Lexington Grand Central-42nd St GS4567         40.751776   \n",
       "\n",
       "     Station_Longitude  \n",
       "55          -73.986754  \n",
       "150         -73.984569  \n",
       "181         -73.989735  \n",
       "333         -73.898583  \n",
       "365         -73.976041  \n",
       "423         -73.976848  "
      ]
     },
     "execution_count": 66,
     "metadata": {},
     "output_type": "execute_result"
    }
   ],
   "source": [
    "legend_finder('42nd')"
   ]
  },
  {
   "cell_type": "code",
   "execution_count": 67,
   "metadata": {},
   "outputs": [
    {
     "data": {
      "text/plain": [
       "'coords_added'"
      ]
     },
     "execution_count": 67,
     "metadata": {},
     "output_type": "execute_result"
    }
   ],
   "source": [
    "coord_add('IND 8 Avenue 42nd St ACENQRS1.02.03.07.0') #'PORT-AUTH' implies 8th avenue line"
   ]
  },
  {
   "cell_type": "code",
   "execution_count": 68,
   "metadata": {},
   "outputs": [
    {
     "data": {
      "text/plain": [
       "STATION                    34 ST-PENN STA ACE\n",
       "Average Daily Ridership               73986.4\n",
       "Name: 3, dtype: object"
      ]
     },
     "execution_count": 68,
     "metadata": {},
     "output_type": "execute_result"
    }
   ],
   "source": [
    "mta_top_10.iloc[3]"
   ]
  },
  {
   "cell_type": "code",
   "execution_count": 69,
   "metadata": {},
   "outputs": [
    {
     "data": {
      "text/html": [
       "<div>\n",
       "<style scoped>\n",
       "    .dataframe tbody tr th:only-of-type {\n",
       "        vertical-align: middle;\n",
       "    }\n",
       "\n",
       "    .dataframe tbody tr th {\n",
       "        vertical-align: top;\n",
       "    }\n",
       "\n",
       "    .dataframe thead th {\n",
       "        text-align: right;\n",
       "    }\n",
       "</style>\n",
       "<table border=\"1\" class=\"dataframe\">\n",
       "  <thead>\n",
       "    <tr style=\"text-align: right;\">\n",
       "      <th></th>\n",
       "      <th>Station_Name</th>\n",
       "      <th>Station_ID</th>\n",
       "      <th>Station_Latitude</th>\n",
       "      <th>Station_Longitude</th>\n",
       "    </tr>\n",
       "  </thead>\n",
       "  <tbody>\n",
       "    <tr>\n",
       "      <td>42</td>\n",
       "      <td>34th St</td>\n",
       "      <td>BMT Broadway 34th St BDFMNQR</td>\n",
       "      <td>40.749567</td>\n",
       "      <td>-73.987950</td>\n",
       "    </tr>\n",
       "    <tr>\n",
       "      <td>149</td>\n",
       "      <td>34th St</td>\n",
       "      <td>IND 6 Avenue 34th St BDFMNQR</td>\n",
       "      <td>40.749719</td>\n",
       "      <td>-73.987823</td>\n",
       "    </tr>\n",
       "    <tr>\n",
       "      <td>180</td>\n",
       "      <td>34th St</td>\n",
       "      <td>IND 8 Avenue 34th St ACE</td>\n",
       "      <td>40.752287</td>\n",
       "      <td>-73.993391</td>\n",
       "    </tr>\n",
       "    <tr>\n",
       "      <td>314</td>\n",
       "      <td>34th St</td>\n",
       "      <td>IRT Broadway-7th Ave 34th St 123</td>\n",
       "      <td>40.750373</td>\n",
       "      <td>-73.991057</td>\n",
       "    </tr>\n",
       "  </tbody>\n",
       "</table>\n",
       "</div>"
      ],
      "text/plain": [
       "    Station_Name                        Station_ID  Station_Latitude  \\\n",
       "42       34th St      BMT Broadway 34th St BDFMNQR         40.749567   \n",
       "149      34th St      IND 6 Avenue 34th St BDFMNQR         40.749719   \n",
       "180      34th St          IND 8 Avenue 34th St ACE         40.752287   \n",
       "314      34th St  IRT Broadway-7th Ave 34th St 123         40.750373   \n",
       "\n",
       "     Station_Longitude  \n",
       "42          -73.987950  \n",
       "149         -73.987823  \n",
       "180         -73.993391  \n",
       "314         -73.991057  "
      ]
     },
     "execution_count": 69,
     "metadata": {},
     "output_type": "execute_result"
    }
   ],
   "source": [
    "legend_finder('34th')"
   ]
  },
  {
   "cell_type": "code",
   "execution_count": 70,
   "metadata": {},
   "outputs": [
    {
     "data": {
      "text/plain": [
       "'coords_added'"
      ]
     },
     "execution_count": 70,
     "metadata": {},
     "output_type": "execute_result"
    }
   ],
   "source": [
    "coord_add('IND 8 Avenue 34th St ACE') #Not a junction, no comparisons needed"
   ]
  },
  {
   "cell_type": "code",
   "execution_count": 71,
   "metadata": {},
   "outputs": [
    {
     "data": {
      "text/plain": [
       "STATION                    14 ST-UNION SQ LNQR456W\n",
       "Average Daily Ridership                    64035.5\n",
       "Name: 4, dtype: object"
      ]
     },
     "execution_count": 71,
     "metadata": {},
     "output_type": "execute_result"
    }
   ],
   "source": [
    "mta_top_10.iloc[4]"
   ]
  },
  {
   "cell_type": "code",
   "execution_count": 72,
   "metadata": {},
   "outputs": [
    {
     "data": {
      "text/html": [
       "<div>\n",
       "<style scoped>\n",
       "    .dataframe tbody tr th:only-of-type {\n",
       "        vertical-align: middle;\n",
       "    }\n",
       "\n",
       "    .dataframe tbody tr th {\n",
       "        vertical-align: top;\n",
       "    }\n",
       "\n",
       "    .dataframe thead th {\n",
       "        text-align: right;\n",
       "    }\n",
       "</style>\n",
       "<table border=\"1\" class=\"dataframe\">\n",
       "  <thead>\n",
       "    <tr style=\"text-align: right;\">\n",
       "      <th></th>\n",
       "      <th>Station_Name</th>\n",
       "      <th>Station_ID</th>\n",
       "      <th>Station_Latitude</th>\n",
       "      <th>Station_Longitude</th>\n",
       "    </tr>\n",
       "  </thead>\n",
       "  <tbody>\n",
       "    <tr>\n",
       "      <td>14</td>\n",
       "      <td>Union St</td>\n",
       "      <td>BMT 4 Avenue Union St R</td>\n",
       "      <td>40.677316</td>\n",
       "      <td>-73.983110</td>\n",
       "    </tr>\n",
       "    <tr>\n",
       "      <td>56</td>\n",
       "      <td>Union Square</td>\n",
       "      <td>BMT Broadway Union Square LNQR456</td>\n",
       "      <td>40.735736</td>\n",
       "      <td>-73.990568</td>\n",
       "    </tr>\n",
       "    <tr>\n",
       "      <td>102</td>\n",
       "      <td>Union Square</td>\n",
       "      <td>BMT Canarsie Union Square LNQR456</td>\n",
       "      <td>40.734789</td>\n",
       "      <td>-73.990730</td>\n",
       "    </tr>\n",
       "    <tr>\n",
       "      <td>273</td>\n",
       "      <td>Kew Gardens-Union Turnpike</td>\n",
       "      <td>IND Queens Boulevard Kew Gardens-Union Turnpik...</td>\n",
       "      <td>40.714441</td>\n",
       "      <td>-73.831008</td>\n",
       "    </tr>\n",
       "    <tr>\n",
       "      <td>399</td>\n",
       "      <td>14th St-Union Square</td>\n",
       "      <td>IRT Lexington 14th St-Union Square LNQR456</td>\n",
       "      <td>40.734673</td>\n",
       "      <td>-73.989951</td>\n",
       "    </tr>\n",
       "  </tbody>\n",
       "</table>\n",
       "</div>"
      ],
      "text/plain": [
       "                   Station_Name  \\\n",
       "14                     Union St   \n",
       "56                 Union Square   \n",
       "102                Union Square   \n",
       "273  Kew Gardens-Union Turnpike   \n",
       "399        14th St-Union Square   \n",
       "\n",
       "                                            Station_ID  Station_Latitude  \\\n",
       "14                             BMT 4 Avenue Union St R         40.677316   \n",
       "56                   BMT Broadway Union Square LNQR456         40.735736   \n",
       "102                  BMT Canarsie Union Square LNQR456         40.734789   \n",
       "273  IND Queens Boulevard Kew Gardens-Union Turnpik...         40.714441   \n",
       "399         IRT Lexington 14th St-Union Square LNQR456         40.734673   \n",
       "\n",
       "     Station_Longitude  \n",
       "14          -73.983110  \n",
       "56          -73.990568  \n",
       "102         -73.990730  \n",
       "273         -73.831008  \n",
       "399         -73.989951  "
      ]
     },
     "execution_count": 72,
     "metadata": {},
     "output_type": "execute_result"
    }
   ],
   "source": [
    "legend_finder('Union')"
   ]
  },
  {
   "cell_type": "code",
   "execution_count": 73,
   "metadata": {},
   "outputs": [
    {
     "data": {
      "text/plain": [
       "'coords_added'"
      ]
     },
     "execution_count": 73,
     "metadata": {},
     "output_type": "execute_result"
    }
   ],
   "source": [
    "coord_add('BMT Canarsie Union Square LNQR456') #L train straddles B'way and Lexington lines"
   ]
  },
  {
   "cell_type": "code",
   "execution_count": 74,
   "metadata": {},
   "outputs": [
    {
     "data": {
      "text/plain": [
       "STATION                    TIMES SQ-42 ST 1237ACENQRSW\n",
       "Average Daily Ridership                        61531.4\n",
       "Name: 5, dtype: object"
      ]
     },
     "execution_count": 74,
     "metadata": {},
     "output_type": "execute_result"
    }
   ],
   "source": [
    "mta_top_10.iloc[5]"
   ]
  },
  {
   "cell_type": "code",
   "execution_count": 75,
   "metadata": {},
   "outputs": [
    {
     "data": {
      "text/html": [
       "<div>\n",
       "<style scoped>\n",
       "    .dataframe tbody tr th:only-of-type {\n",
       "        vertical-align: middle;\n",
       "    }\n",
       "\n",
       "    .dataframe tbody tr th {\n",
       "        vertical-align: top;\n",
       "    }\n",
       "\n",
       "    .dataframe thead th {\n",
       "        text-align: right;\n",
       "    }\n",
       "</style>\n",
       "<table border=\"1\" class=\"dataframe\">\n",
       "  <thead>\n",
       "    <tr style=\"text-align: right;\">\n",
       "      <th></th>\n",
       "      <th>Station_Name</th>\n",
       "      <th>Station_ID</th>\n",
       "      <th>Station_Latitude</th>\n",
       "      <th>Station_Longitude</th>\n",
       "    </tr>\n",
       "  </thead>\n",
       "  <tbody>\n",
       "    <tr>\n",
       "      <td>55</td>\n",
       "      <td>Times Square-42nd St</td>\n",
       "      <td>BMT Broadway Times Square-42nd St ACENQRS1.02....</td>\n",
       "      <td>40.754672</td>\n",
       "      <td>-73.986754</td>\n",
       "    </tr>\n",
       "    <tr>\n",
       "      <td>296</td>\n",
       "      <td>Times Square</td>\n",
       "      <td>IRT 42nd St Shuttle Times Square ACENQRGS1.02....</td>\n",
       "      <td>40.755983</td>\n",
       "      <td>-73.986229</td>\n",
       "    </tr>\n",
       "    <tr>\n",
       "      <td>332</td>\n",
       "      <td>Times Square</td>\n",
       "      <td>IRT Broadway-7th Ave Times Square ACENQRS1.02....</td>\n",
       "      <td>40.755290</td>\n",
       "      <td>-73.987495</td>\n",
       "    </tr>\n",
       "  </tbody>\n",
       "</table>\n",
       "</div>"
      ],
      "text/plain": [
       "             Station_Name                                         Station_ID  \\\n",
       "55   Times Square-42nd St  BMT Broadway Times Square-42nd St ACENQRS1.02....   \n",
       "296          Times Square  IRT 42nd St Shuttle Times Square ACENQRGS1.02....   \n",
       "332          Times Square  IRT Broadway-7th Ave Times Square ACENQRS1.02....   \n",
       "\n",
       "     Station_Latitude  Station_Longitude  \n",
       "55          40.754672         -73.986754  \n",
       "296         40.755983         -73.986229  \n",
       "332         40.755290         -73.987495  "
      ]
     },
     "execution_count": 75,
     "metadata": {},
     "output_type": "execute_result"
    }
   ],
   "source": [
    "legend_finder('Times')"
   ]
  },
  {
   "cell_type": "code",
   "execution_count": 76,
   "metadata": {},
   "outputs": [
    {
     "data": {
      "text/plain": [
       "'coords_added'"
      ]
     },
     "execution_count": 76,
     "metadata": {},
     "output_type": "execute_result"
    }
   ],
   "source": [
    "coord_add('BMT Broadway Times Square-42nd St ACENQRS1.02.03.07.0')\n",
    "# These lines are so close that this one doesn't really matter"
   ]
  },
  {
   "cell_type": "code",
   "execution_count": 77,
   "metadata": {},
   "outputs": [
    {
     "data": {
      "text/plain": [
       "STATION                    59 ST COLUMBUS ABCD1\n",
       "Average Daily Ridership                 54219.4\n",
       "Name: 6, dtype: object"
      ]
     },
     "execution_count": 77,
     "metadata": {},
     "output_type": "execute_result"
    }
   ],
   "source": [
    "mta_top_10.iloc[6]"
   ]
  },
  {
   "cell_type": "code",
   "execution_count": 78,
   "metadata": {},
   "outputs": [
    {
     "data": {
      "text/html": [
       "<div>\n",
       "<style scoped>\n",
       "    .dataframe tbody tr th:only-of-type {\n",
       "        vertical-align: middle;\n",
       "    }\n",
       "\n",
       "    .dataframe tbody tr th {\n",
       "        vertical-align: top;\n",
       "    }\n",
       "\n",
       "    .dataframe thead th {\n",
       "        text-align: right;\n",
       "    }\n",
       "</style>\n",
       "<table border=\"1\" class=\"dataframe\">\n",
       "  <thead>\n",
       "    <tr style=\"text-align: right;\">\n",
       "      <th></th>\n",
       "      <th>Station_Name</th>\n",
       "      <th>Station_ID</th>\n",
       "      <th>Station_Latitude</th>\n",
       "      <th>Station_Longitude</th>\n",
       "    </tr>\n",
       "  </thead>\n",
       "  <tbody>\n",
       "    <tr>\n",
       "      <td>4</td>\n",
       "      <td>59th St</td>\n",
       "      <td>BMT 4 Avenue 59th St NR</td>\n",
       "      <td>40.641362</td>\n",
       "      <td>-74.017881</td>\n",
       "    </tr>\n",
       "    <tr>\n",
       "      <td>183</td>\n",
       "      <td>59th St</td>\n",
       "      <td>IND 8 Avenue 59th St ABCD1</td>\n",
       "      <td>40.768296</td>\n",
       "      <td>-73.981736</td>\n",
       "    </tr>\n",
       "    <tr>\n",
       "      <td>316</td>\n",
       "      <td>59th St-Columbus Circle</td>\n",
       "      <td>IRT Broadway-7th Ave 59th St-Columbus Circle A...</td>\n",
       "      <td>40.768247</td>\n",
       "      <td>-73.981929</td>\n",
       "    </tr>\n",
       "    <tr>\n",
       "      <td>404</td>\n",
       "      <td>59th St</td>\n",
       "      <td>IRT Lexington 59th St NQR456</td>\n",
       "      <td>40.762526</td>\n",
       "      <td>-73.967967</td>\n",
       "    </tr>\n",
       "  </tbody>\n",
       "</table>\n",
       "</div>"
      ],
      "text/plain": [
       "                Station_Name  \\\n",
       "4                    59th St   \n",
       "183                  59th St   \n",
       "316  59th St-Columbus Circle   \n",
       "404                  59th St   \n",
       "\n",
       "                                            Station_ID  Station_Latitude  \\\n",
       "4                              BMT 4 Avenue 59th St NR         40.641362   \n",
       "183                         IND 8 Avenue 59th St ABCD1         40.768296   \n",
       "316  IRT Broadway-7th Ave 59th St-Columbus Circle A...         40.768247   \n",
       "404                       IRT Lexington 59th St NQR456         40.762526   \n",
       "\n",
       "     Station_Longitude  \n",
       "4           -74.017881  \n",
       "183         -73.981736  \n",
       "316         -73.981929  \n",
       "404         -73.967967  "
      ]
     },
     "execution_count": 78,
     "metadata": {},
     "output_type": "execute_result"
    }
   ],
   "source": [
    "legend_finder('59th')"
   ]
  },
  {
   "cell_type": "code",
   "execution_count": 79,
   "metadata": {},
   "outputs": [
    {
     "data": {
      "text/plain": [
       "'coords_added'"
      ]
     },
     "execution_count": 79,
     "metadata": {},
     "output_type": "execute_result"
    }
   ],
   "source": [
    "coord_add('IND 8 Avenue 59th St ABCD1') # 4 of 5 lines at this station are at the aforementioned platform"
   ]
  },
  {
   "cell_type": "code",
   "execution_count": 80,
   "metadata": {},
   "outputs": [
    {
     "data": {
      "text/plain": [
       "STATION                    FULTON ST 2345ACJZ\n",
       "Average Daily Ridership               52698.5\n",
       "Name: 7, dtype: object"
      ]
     },
     "execution_count": 80,
     "metadata": {},
     "output_type": "execute_result"
    }
   ],
   "source": [
    "mta_top_10.iloc[7]"
   ]
  },
  {
   "cell_type": "code",
   "execution_count": 81,
   "metadata": {},
   "outputs": [
    {
     "data": {
      "text/html": [
       "<div>\n",
       "<style scoped>\n",
       "    .dataframe tbody tr th:only-of-type {\n",
       "        vertical-align: middle;\n",
       "    }\n",
       "\n",
       "    .dataframe tbody tr th {\n",
       "        vertical-align: top;\n",
       "    }\n",
       "\n",
       "    .dataframe thead th {\n",
       "        text-align: right;\n",
       "    }\n",
       "</style>\n",
       "<table border=\"1\" class=\"dataframe\">\n",
       "  <thead>\n",
       "    <tr style=\"text-align: right;\">\n",
       "      <th></th>\n",
       "      <th>Station_Name</th>\n",
       "      <th>Station_ID</th>\n",
       "      <th>Station_Latitude</th>\n",
       "      <th>Station_Longitude</th>\n",
       "    </tr>\n",
       "  </thead>\n",
       "  <tbody>\n",
       "    <tr>\n",
       "      <td>121</td>\n",
       "      <td>Fulton St</td>\n",
       "      <td>BMT Nassau Fulton St ACJZ2345.0</td>\n",
       "      <td>40.710374</td>\n",
       "      <td>-74.007582</td>\n",
       "    </tr>\n",
       "    <tr>\n",
       "      <td>218</td>\n",
       "      <td>Fulton St</td>\n",
       "      <td>IND Crosstown Fulton St G</td>\n",
       "      <td>40.687119</td>\n",
       "      <td>-73.975375</td>\n",
       "    </tr>\n",
       "    <tr>\n",
       "      <td>336</td>\n",
       "      <td>Fulton St</td>\n",
       "      <td>IRT Clark Fulton St ACJZ2345.0</td>\n",
       "      <td>40.709416</td>\n",
       "      <td>-74.006571</td>\n",
       "    </tr>\n",
       "    <tr>\n",
       "      <td>422</td>\n",
       "      <td>Fulton St</td>\n",
       "      <td>IRT Lexington Fulton St ACJZ2345.0</td>\n",
       "      <td>40.710368</td>\n",
       "      <td>-74.009509</td>\n",
       "    </tr>\n",
       "  </tbody>\n",
       "</table>\n",
       "</div>"
      ],
      "text/plain": [
       "    Station_Name                          Station_ID  Station_Latitude  \\\n",
       "121    Fulton St     BMT Nassau Fulton St ACJZ2345.0         40.710374   \n",
       "218    Fulton St           IND Crosstown Fulton St G         40.687119   \n",
       "336    Fulton St      IRT Clark Fulton St ACJZ2345.0         40.709416   \n",
       "422    Fulton St  IRT Lexington Fulton St ACJZ2345.0         40.710368   \n",
       "\n",
       "     Station_Longitude  \n",
       "121         -74.007582  \n",
       "218         -73.975375  \n",
       "336         -74.006571  \n",
       "422         -74.009509  "
      ]
     },
     "execution_count": 81,
     "metadata": {},
     "output_type": "execute_result"
    }
   ],
   "source": [
    "legend_finder('Fulton')"
   ]
  },
  {
   "cell_type": "code",
   "execution_count": 82,
   "metadata": {},
   "outputs": [
    {
     "data": {
      "text/plain": [
       "'coords_added'"
      ]
     },
     "execution_count": 82,
     "metadata": {},
     "output_type": "execute_result"
    }
   ],
   "source": [
    "coord_add('BMT Nassau Fulton St ACJZ2345.0') #J/Z Nassau line is most central at this location"
   ]
  },
  {
   "cell_type": "code",
   "execution_count": 83,
   "metadata": {},
   "outputs": [
    {
     "data": {
      "text/plain": [
       "STATION                    47-50 STS ROCK BDFM\n",
       "Average Daily Ridership                51449.9\n",
       "Name: 8, dtype: object"
      ]
     },
     "execution_count": 83,
     "metadata": {},
     "output_type": "execute_result"
    }
   ],
   "source": [
    "mta_top_10.iloc[8]"
   ]
  },
  {
   "cell_type": "code",
   "execution_count": 84,
   "metadata": {},
   "outputs": [
    {
     "data": {
      "text/html": [
       "<div>\n",
       "<style scoped>\n",
       "    .dataframe tbody tr th:only-of-type {\n",
       "        vertical-align: middle;\n",
       "    }\n",
       "\n",
       "    .dataframe tbody tr th {\n",
       "        vertical-align: top;\n",
       "    }\n",
       "\n",
       "    .dataframe thead th {\n",
       "        text-align: right;\n",
       "    }\n",
       "</style>\n",
       "<table border=\"1\" class=\"dataframe\">\n",
       "  <thead>\n",
       "    <tr style=\"text-align: right;\">\n",
       "      <th></th>\n",
       "      <th>Station_Name</th>\n",
       "      <th>Station_ID</th>\n",
       "      <th>Station_Latitude</th>\n",
       "      <th>Station_Longitude</th>\n",
       "    </tr>\n",
       "  </thead>\n",
       "  <tbody>\n",
       "    <tr>\n",
       "      <td>151</td>\n",
       "      <td>47-50th Sts Rockefeller Center</td>\n",
       "      <td>IND 6 Avenue 47-50th Sts Rockefeller Center BDFM</td>\n",
       "      <td>40.758663</td>\n",
       "      <td>-73.981329</td>\n",
       "    </tr>\n",
       "    <tr>\n",
       "      <td>152</td>\n",
       "      <td>47-50th Sts Rockefeller Center</td>\n",
       "      <td>IND 6 Avenue 47-50th Sts Rockefeller Center BDFM7</td>\n",
       "      <td>40.758663</td>\n",
       "      <td>-73.981329</td>\n",
       "    </tr>\n",
       "  </tbody>\n",
       "</table>\n",
       "</div>"
      ],
      "text/plain": [
       "                       Station_Name  \\\n",
       "151  47-50th Sts Rockefeller Center   \n",
       "152  47-50th Sts Rockefeller Center   \n",
       "\n",
       "                                            Station_ID  Station_Latitude  \\\n",
       "151   IND 6 Avenue 47-50th Sts Rockefeller Center BDFM         40.758663   \n",
       "152  IND 6 Avenue 47-50th Sts Rockefeller Center BDFM7         40.758663   \n",
       "\n",
       "     Station_Longitude  \n",
       "151         -73.981329  \n",
       "152         -73.981329  "
      ]
     },
     "execution_count": 84,
     "metadata": {},
     "output_type": "execute_result"
    }
   ],
   "source": [
    "legend_finder('47-50')"
   ]
  },
  {
   "cell_type": "code",
   "execution_count": 85,
   "metadata": {},
   "outputs": [
    {
     "data": {
      "text/plain": [
       "'coords_added'"
      ]
     },
     "execution_count": 85,
     "metadata": {},
     "output_type": "execute_result"
    }
   ],
   "source": [
    "coord_add('IND 6 Avenue 47-50th Sts Rockefeller Center BDFM') #another non-junction"
   ]
  },
  {
   "cell_type": "code",
   "execution_count": 86,
   "metadata": {},
   "outputs": [
    {
     "data": {
      "text/plain": [
       "STATION                    FLUSHING-MAIN 7\n",
       "Average Daily Ridership            49241.5\n",
       "Name: 9, dtype: object"
      ]
     },
     "execution_count": 86,
     "metadata": {},
     "output_type": "execute_result"
    }
   ],
   "source": [
    "mta_top_10.iloc[9]"
   ]
  },
  {
   "cell_type": "code",
   "execution_count": 87,
   "metadata": {},
   "outputs": [
    {
     "data": {
      "text/html": [
       "<div>\n",
       "<style scoped>\n",
       "    .dataframe tbody tr th:only-of-type {\n",
       "        vertical-align: middle;\n",
       "    }\n",
       "\n",
       "    .dataframe tbody tr th {\n",
       "        vertical-align: top;\n",
       "    }\n",
       "\n",
       "    .dataframe thead th {\n",
       "        text-align: right;\n",
       "    }\n",
       "</style>\n",
       "<table border=\"1\" class=\"dataframe\">\n",
       "  <thead>\n",
       "    <tr style=\"text-align: right;\">\n",
       "      <th></th>\n",
       "      <th>Station_Name</th>\n",
       "      <th>Station_ID</th>\n",
       "      <th>Station_Latitude</th>\n",
       "      <th>Station_Longitude</th>\n",
       "    </tr>\n",
       "  </thead>\n",
       "  <tbody>\n",
       "    <tr>\n",
       "      <td>67</td>\n",
       "      <td>Flushing Av</td>\n",
       "      <td>BMT Broadway Jamaica Flushing Av JM</td>\n",
       "      <td>40.700260</td>\n",
       "      <td>-73.941126</td>\n",
       "    </tr>\n",
       "    <tr>\n",
       "      <td>217</td>\n",
       "      <td>Flushing Av</td>\n",
       "      <td>IND Crosstown Flushing Av G</td>\n",
       "      <td>40.700377</td>\n",
       "      <td>-73.950234</td>\n",
       "    </tr>\n",
       "    <tr>\n",
       "      <td>364</td>\n",
       "      <td>Flushing-Main St</td>\n",
       "      <td>IRT Flushing Flushing-Main St 7</td>\n",
       "      <td>40.759600</td>\n",
       "      <td>-73.830030</td>\n",
       "    </tr>\n",
       "  </tbody>\n",
       "</table>\n",
       "</div>"
      ],
      "text/plain": [
       "         Station_Name                           Station_ID  Station_Latitude  \\\n",
       "67        Flushing Av  BMT Broadway Jamaica Flushing Av JM         40.700260   \n",
       "217       Flushing Av          IND Crosstown Flushing Av G         40.700377   \n",
       "364  Flushing-Main St      IRT Flushing Flushing-Main St 7         40.759600   \n",
       "\n",
       "     Station_Longitude  \n",
       "67          -73.941126  \n",
       "217         -73.950234  \n",
       "364         -73.830030  "
      ]
     },
     "execution_count": 87,
     "metadata": {},
     "output_type": "execute_result"
    }
   ],
   "source": [
    "legend_finder('Flushing')"
   ]
  },
  {
   "cell_type": "code",
   "execution_count": 88,
   "metadata": {},
   "outputs": [
    {
     "data": {
      "text/plain": [
       "'coords_added'"
      ]
     },
     "execution_count": 88,
     "metadata": {},
     "output_type": "execute_result"
    }
   ],
   "source": [
    "coord_add('IRT Flushing Flushing-Main St 7') #non-junction"
   ]
  },
  {
   "cell_type": "code",
   "execution_count": 89,
   "metadata": {},
   "outputs": [
    {
     "name": "stderr",
     "output_type": "stream",
     "text": [
      "/Users/andrewway/opt/anaconda3/lib/python3.7/site-packages/ipykernel_launcher.py:1: SettingWithCopyWarning: \n",
      "A value is trying to be set on a copy of a slice from a DataFrame.\n",
      "Try using .loc[row_indexer,col_indexer] = value instead\n",
      "\n",
      "See the caveats in the documentation: http://pandas.pydata.org/pandas-docs/stable/user_guide/indexing.html#returning-a-view-versus-a-copy\n",
      "  \"\"\"Entry point for launching an IPython kernel.\n",
      "/Users/andrewway/opt/anaconda3/lib/python3.7/site-packages/ipykernel_launcher.py:2: SettingWithCopyWarning: \n",
      "A value is trying to be set on a copy of a slice from a DataFrame.\n",
      "Try using .loc[row_indexer,col_indexer] = value instead\n",
      "\n",
      "See the caveats in the documentation: http://pandas.pydata.org/pandas-docs/stable/user_guide/indexing.html#returning-a-view-versus-a-copy\n",
      "  \n"
     ]
    }
   ],
   "source": [
    "mta_top_10['Latitude']=lat_list\n",
    "mta_top_10['Longitude']=lon_list"
   ]
  },
  {
   "cell_type": "code",
   "execution_count": 90,
   "metadata": {},
   "outputs": [
    {
     "data": {
      "text/html": [
       "<div>\n",
       "<style scoped>\n",
       "    .dataframe tbody tr th:only-of-type {\n",
       "        vertical-align: middle;\n",
       "    }\n",
       "\n",
       "    .dataframe tbody tr th {\n",
       "        vertical-align: top;\n",
       "    }\n",
       "\n",
       "    .dataframe thead th {\n",
       "        text-align: right;\n",
       "    }\n",
       "</style>\n",
       "<table border=\"1\" class=\"dataframe\">\n",
       "  <thead>\n",
       "    <tr style=\"text-align: right;\">\n",
       "      <th></th>\n",
       "      <th>STATION</th>\n",
       "      <th>Average Daily Ridership</th>\n",
       "      <th>Latitude</th>\n",
       "      <th>Longitude</th>\n",
       "    </tr>\n",
       "  </thead>\n",
       "  <tbody>\n",
       "    <tr>\n",
       "      <td>0</td>\n",
       "      <td>GRD CNTRL-42 ST 4567S</td>\n",
       "      <td>128798.785714</td>\n",
       "      <td>423    40.751776\n",
       "Name: Station_Latitude, dtype...</td>\n",
       "      <td>423   -73.976848\n",
       "Name: Station_Longitude, dtyp...</td>\n",
       "    </tr>\n",
       "    <tr>\n",
       "      <td>1</td>\n",
       "      <td>34 ST-HERALD SQ BDFMNQRW</td>\n",
       "      <td>110537.250000</td>\n",
       "      <td>42    40.749567\n",
       "Name: Station_Latitude, dtype:...</td>\n",
       "      <td>42   -73.98795\n",
       "Name: Station_Longitude, dtype:...</td>\n",
       "    </tr>\n",
       "    <tr>\n",
       "      <td>2</td>\n",
       "      <td>42 ST-PORT AUTH ACENQRS1237W</td>\n",
       "      <td>81466.928571</td>\n",
       "      <td>181    40.757308\n",
       "Name: Station_Latitude, dtype...</td>\n",
       "      <td>181   -73.989735\n",
       "Name: Station_Longitude, dtyp...</td>\n",
       "    </tr>\n",
       "    <tr>\n",
       "      <td>3</td>\n",
       "      <td>34 ST-PENN STA ACE</td>\n",
       "      <td>73986.428571</td>\n",
       "      <td>180    40.752287\n",
       "Name: Station_Latitude, dtype...</td>\n",
       "      <td>180   -73.993391\n",
       "Name: Station_Longitude, dtyp...</td>\n",
       "    </tr>\n",
       "    <tr>\n",
       "      <td>4</td>\n",
       "      <td>14 ST-UNION SQ LNQR456W</td>\n",
       "      <td>64035.464286</td>\n",
       "      <td>102    40.734789\n",
       "Name: Station_Latitude, dtype...</td>\n",
       "      <td>102   -73.99073\n",
       "Name: Station_Longitude, dtype...</td>\n",
       "    </tr>\n",
       "  </tbody>\n",
       "</table>\n",
       "</div>"
      ],
      "text/plain": [
       "                        STATION  Average Daily Ridership  \\\n",
       "0         GRD CNTRL-42 ST 4567S            128798.785714   \n",
       "1      34 ST-HERALD SQ BDFMNQRW            110537.250000   \n",
       "2  42 ST-PORT AUTH ACENQRS1237W             81466.928571   \n",
       "3            34 ST-PENN STA ACE             73986.428571   \n",
       "4       14 ST-UNION SQ LNQR456W             64035.464286   \n",
       "\n",
       "                                            Latitude  \\\n",
       "0  423    40.751776\n",
       "Name: Station_Latitude, dtype...   \n",
       "1  42    40.749567\n",
       "Name: Station_Latitude, dtype:...   \n",
       "2  181    40.757308\n",
       "Name: Station_Latitude, dtype...   \n",
       "3  180    40.752287\n",
       "Name: Station_Latitude, dtype...   \n",
       "4  102    40.734789\n",
       "Name: Station_Latitude, dtype...   \n",
       "\n",
       "                                           Longitude  \n",
       "0  423   -73.976848\n",
       "Name: Station_Longitude, dtyp...  \n",
       "1  42   -73.98795\n",
       "Name: Station_Longitude, dtype:...  \n",
       "2  181   -73.989735\n",
       "Name: Station_Longitude, dtyp...  \n",
       "3  180   -73.993391\n",
       "Name: Station_Longitude, dtyp...  \n",
       "4  102   -73.99073\n",
       "Name: Station_Longitude, dtype...  "
      ]
     },
     "execution_count": 90,
     "metadata": {},
     "output_type": "execute_result"
    }
   ],
   "source": [
    "mta_top_10.head()"
   ]
  },
  {
   "cell_type": "code",
   "execution_count": 91,
   "metadata": {},
   "outputs": [
    {
     "data": {
      "text/html": [
       "<div style=\"width:100%;\"><div style=\"position:relative;width:100%;height:0;padding-bottom:60%;\"><iframe src=\"data:text/html;charset=utf-8;base64,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\" style=\"position:absolute;width:100%;height:100%;left:0;top:0;border:none !important;\" allowfullscreen webkitallowfullscreen mozallowfullscreen></iframe></div></div>"
      ],
      "text/plain": [
       "<folium.folium.Map at 0x1a1fa1e150>"
      ]
     },
     "execution_count": 91,
     "metadata": {},
     "output_type": "execute_result"
    }
   ],
   "source": [
    "nycmap = folium.Map(location=[40.73,-73.982155], \n",
    "                    width=1024, \n",
    "                    height=760, \n",
    "                    tiles=\"cartodbpositron\", \n",
    "                    zoom_start=12)\n",
    "\n",
    "for i in range(len(mta_top_10)):\n",
    "    folium.Circle([mta_top_10['Latitude'][i], mta_top_10['Longitude'][i]],\n",
    "                  popup=mta_top_10['STATION'][i],\n",
    "                  radius = 300,\n",
    "                  color = 'crimson',\n",
    "                  fill = True\n",
    "                  ).add_to(nycmap)\n",
    "\n",
    "\n",
    "for i in range(len(offices_pop)):\n",
    "    folium.Circle([offices_pop.iloc[i]['Latitude'], offices_pop.iloc[i]['Longitude']],\n",
    "                  popup=offices_pop.iloc[i]['Company'],\n",
    "                  radius= 10,\n",
    "                  fill=True,\n",
    "                  color = 'blue'\n",
    "                  ).add_to(nycmap)\n",
    "\n",
    "for i in range(len(offices_sqft)):\n",
    "    folium.Circle([offices_sqft.iloc[i]['Latitude'], offices_sqft.iloc[i]['Longitude']],\n",
    "                   popup=offices_sqft.iloc[i]['Company'],\n",
    "                   radius= 10,\n",
    "                   fill=True,\n",
    "                   color = 'blue').add_to(nycmap)\n",
    "\n",
    "nycmap.save('nycmap.html')\n",
    "nycmap"
   ]
  }
 ],
 "metadata": {
  "kernelspec": {
   "display_name": "Python 3",
   "language": "python",
   "name": "python3"
  },
  "language_info": {
   "codemirror_mode": {
    "name": "ipython",
    "version": 3
   },
   "file_extension": ".py",
   "mimetype": "text/x-python",
   "name": "python",
   "nbconvert_exporter": "python",
   "pygments_lexer": "ipython3",
   "version": "3.7.4"
  }
 },
 "nbformat": 4,
 "nbformat_minor": 2
}
